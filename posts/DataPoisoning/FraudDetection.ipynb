{
 "cells": [
  {
   "cell_type": "raw",
   "metadata": {
    "vscode": {
     "languageId": "raw"
    }
   },
   "source": [
    "---\n",
    "title: Data Poisoning in Fraud Detection\n",
    "author: Oscar Fleet and Tristan Meyer\n",
    "date: '2024-05-15'\n",
    "image: \"poison.jpg\"\n",
    "description: \"In this blog post, we will experiment and illustrate the effectiveness of a data poisoning attack on a fraud detection model.\"\n",
    "format: html\n",
    "bibliography: refs.bib\n",
    "---"
   ]
  },
  {
   "cell_type": "markdown",
   "metadata": {},
   "source": [
    "# Abstract\n",
    "\n",
    "This blog post explores the implementation and outcome of several data poisoning attacks on a dataset of credit card transactions. Data poisoning is a technique used in adversarial machine learning, where an attacker is able to inject data into the model's training dataset, or alter the dataset itself, in order to manipulate the model's future behavior. The project explores the dataset with visualizations that aided in both the implementation of the models and the choice for the targets of the attacks. We implemented a decision tree classification model from scikit-learn. Using this model, we implemented a targeted attack on specific merchants, successfully altering the model’s classification results in relation to the merchant, without compromising the overall accuracy of the model. Further, we implemented a disabling attack targeted at two categories of transactions which also did not compromise the accuracy of the model, but produced inaccurate classifications within these categories compared to the original model. We believe that our data poisoning attacks on the training data sufficiently affected the behavior of the fraud detection model, while not negatively impacting the overall accuracy of the model on the data as a whole.\n",
    "\n",
    "[Our general repository](https://github.com/tristanmeyer2/CS451-DataPoisoning)\n",
    "\n",
    "[Our Jupyter Notebook](https://github.com/tristanmeyer2/CS451-DataPoisoning/blob/main/FraudDetection.ipynb)"
   ]
  },
  {
   "cell_type": "markdown",
   "metadata": {},
   "source": [
    "# Introduction\n",
    "Data poisoning is a type of cybersecurity attack aimed at manipulating the training data of a machine learning model in order to introduce unexpected or unintended specific behaviors at the implementation time of the model. We first encountered the topic of data poisoning in the paper, Targeted Backdoor Attacks on Deep Learning Systems Using Data Poisoning, which describes a cyberattack protocol upon a facial recognition system. The paper’s conclusion displays the ability to use a physical key in photographs in a training dataset to manipulate a facial recognition system’s ability to classify a person’s identity reliably, without affecting the model’s accuracy when the physical key is not present (@chen2017targeted).\n",
    "\n",
    "We were inspired by the wealth of research into attacking generative art models that scrape the web for training data without the consent of the artists whose work the models are trained upon. In specific, the work of the University of Chicago Department of Computer Science’s team, Shawn Shan, et. al., in creating marketable data poisoning filters for artists, such as Glaze and Nightshade. Glaze is a tool for artists that enables them to apply a “style cloak” to their art before publishing online; this cloak applies a filter to their artwork that disrupts a generative model’s ability to train effectively train upon it, while also being imperceptible to the human eye (@shan2023glaze). In a slightly more aggressive manner, Nightshade employs a filter that is directed at text-to-image generative models, and is classified as a prompt-specific data poisoning attack aimed at corrupting a model’s ability to respond to specific targeted prompts. Nightshade applies a filter that does not disrupt a model’s ability to perceive an image, but rather manipulates a model into believing it is perceiving a different image, e.g., cloaking a picture of a cow so that it appears to be a handbag to a generative model. In doing so, Nightshade attacks the effectiveness of a generative art model by manipulating its ability to accurately perceive the artwork that it is trained upon, dramatically decreasing a model’s useability (@shan2024nightshade).\n",
    "\n",
    "In our project, we aim to recreate the general approaches to a data poisoning attack upon a problem we have seen earlier in our course: financial transaction fraud detection. We hope to create data poisoning attacks on accurate classification models to manipulate a model’s classification output in a targeted manner. In doing so, we believe that our project will illustrate the vulnerabilities of machine learning models, and how those who design and use them ought to create proper security measures in their model’s training procedures, data collection, and data storage."
   ]
  },
  {
   "cell_type": "markdown",
   "metadata": {},
   "source": [
    "# Values Statement\n",
    "We believe that the potential users of our project include machine learning engineers who wish to ensure the security and integrity of their work from those who wish to abuse a company’s reliance on machine learning, security positions within companies that are tasked with issue-spotting in their companies’ models and data protection practices, and companies as a whole, so that they can protect their business operations from manipulation. Others who may benefit from this project include the users who own the data, so that their data and personal information can be better protected, as well as potential victims of fraud, as with the knowledge of how data poisoning works, machine learning engineers can stop more sophisticated fraud attacks.\n",
    "\n",
    "Many technology users and companies have the potential to be harmed from the practice of data poisoning. If a company releases software that utilizes a machine learning algorithm unprotected from data poisoning attacks, they run the risk of putting out a faulty product that may one day be used maliciously, as well as endangering all of their customers. In the example of a fraud detection system, if a company failed to create sufficient protections against data poisoning attacks, an attacker may be able to manipulate the model in a variety of ways that would financially harm the company and many of its customers, such as forcing the model to always classify a transaction from a certain merchant or customer as fraudulent, allowing fraud from specific sources or in specific sectors to go undetected, or crippling the effectiveness of the entire system.\n",
    "\n",
    "Due to these risks, we, as aspiring machine learning engineers, hope to better understand the practice of data poisoning so that we can design models and databases in the future that are secure from this threat. Additionally, we believe that some methods of data poisoning can be used for good. As in the aforementioned examples of Glaze and Nightshade, certain methods of preemptive data poisoning can be used to protect intellectual property from automated web scraping and unlicensed model training.\n",
    "\n",
    "We believe that with a better understanding of what a data poisoning attack looks like, and the extent to which it can detrimentally affect a machine learning model, our work and the work of others can be more secure and safe. If machine learning engineers and database administrators were to create their design processes with possible data poisoning attacks in mind, their models and data protection systems can be more robust, a better asset to their customers and companies, and a tool that users can trust without fear. "
   ]
  },
  {
   "attachments": {},
   "cell_type": "markdown",
   "metadata": {},
   "source": [
    "# Materials and Methods\n",
    "\n",
    "Our data was generated in 2014 by Edgar Alonso Lopez-Rojas and Stefan Axelsson in their paper [BankSim: A Bank Payment Simulation for Fraud Detection Research](https://www.kaggle.com/datasets/ealaxi/banksim1) (@lopezrojasdata). The dataset consists of agent-based simulated financial transactions, synthetically generated based on a sample of transactions provided by a bank in Spain. The main purpose of their paper was to generate accurate and representative synthetic data that can be used for fraud detection research and model building, without using sensitive user-specific data. Each entry in the dataset describes the customer ID of a financial transaction, the age of the transaction (how long ago it occurred), the gender of the customer, the zip code of the payment origin, the merchant ID for the payment, the zip code of the merchant, the category of the payment (e.g., transportation, food, etc.), the payment amount, and a binary variable of whether the payment is fraudulent or not. One potential limitation of our dataset is that they all come from the same bank in Spain, and so the variables of zip code origin and merchant zip code are not useful in our classification models. Additionally, the fraud rates for each transaction category may be only representative of the purchasing habits and fraud rates within this region of Spain, and may not be appropriate to extrapolate upon elsewhere in the world. However, this limitation does not necessarily affect our findings, as we are aiming to manipulate the behavior of a machine learning model, not creating a machine learning model that is useful outside of its localized area.\n",
    "\n",
    "For our decision tree model, we one-hot encoded all of the categorical features within our dataset so that we could use them as input to our model. Unfortunately, the `customer` feature had so many distinct values that we were unable to one-hot encode all of them, and so we dropped this feature from our dataset. We used the `fraud` feature of the data to use as our target label. We subset our data in a train/test split, where the testing data represents 33% of the total dataset, and the training data represents 66%. We chose the Decision Tree classification model from scikit-learn so that we could analyze the relative importance of each feature in the model’s decision process. We evaluated our models using a variety of metrics, including true positive and true negative rates, which are especially important to the fraud detection problem, as we want both of these rates to be high, as opposed to only one of them. In evaluating our data poisoning attacks, we analyzed the fraud prediction rate of our poisoned and baseline models within the categories which we were attacking, e.g., if we were attacking a specific merchant, we would analyze the fraud prediction rate from both poisoned and unpoisoned decision tree models of instances of this specific merchant in the testing data, to ensure that our attack was affecting the behavior of the model.\n"
   ]
  },
  {
   "cell_type": "markdown",
   "metadata": {},
   "source": [
    "# Project Notebook"
   ]
  },
  {
   "attachments": {},
   "cell_type": "markdown",
   "metadata": {},
   "source": [
    "Importing the data: \n",
    "\n",
    "This data set includes seven categorical variables:\n",
    "* Customer = the customer label for the transaction ('C' followed by a unique number for each customer)\n",
    "* Gender = the gender of the customer\n",
    "* Zip code Origin = the zip code of the customer where the transaction occurred \n",
    "* Merchant = the merchant label for the transaction ('M' followed by a unique number for each customer)\n",
    "* Zip code Origin = the zip code of the merchant\n",
    "* Category = the industry assigned to the transaction\n",
    "* Fraud = whether the transaction was fraud\n",
    "\n",
    "The data set also includes two quantitative variables: \n",
    "* Age = how long ago (in years) the transaction occurred\n",
    "* Amount = the dollar amount of the transaction"
   ]
  },
  {
   "cell_type": "code",
   "execution_count": 2,
   "metadata": {},
   "outputs": [
    {
     "data": {
      "text/html": [
       "<div>\n",
       "<style scoped>\n",
       "    .dataframe tbody tr th:only-of-type {\n",
       "        vertical-align: middle;\n",
       "    }\n",
       "\n",
       "    .dataframe tbody tr th {\n",
       "        vertical-align: top;\n",
       "    }\n",
       "\n",
       "    .dataframe thead th {\n",
       "        text-align: right;\n",
       "    }\n",
       "</style>\n",
       "<table border=\"1\" class=\"dataframe\">\n",
       "  <thead>\n",
       "    <tr style=\"text-align: right;\">\n",
       "      <th></th>\n",
       "      <th>step</th>\n",
       "      <th>customer</th>\n",
       "      <th>age</th>\n",
       "      <th>gender</th>\n",
       "      <th>zipcodeOri</th>\n",
       "      <th>merchant</th>\n",
       "      <th>zipMerchant</th>\n",
       "      <th>category</th>\n",
       "      <th>amount</th>\n",
       "      <th>fraud</th>\n",
       "    </tr>\n",
       "  </thead>\n",
       "  <tbody>\n",
       "    <tr>\n",
       "      <th>0</th>\n",
       "      <td>0</td>\n",
       "      <td>'C1093826151'</td>\n",
       "      <td>'4'</td>\n",
       "      <td>'M'</td>\n",
       "      <td>'28007'</td>\n",
       "      <td>'M348934600'</td>\n",
       "      <td>'28007'</td>\n",
       "      <td>'es_transportation'</td>\n",
       "      <td>4.55</td>\n",
       "      <td>0</td>\n",
       "    </tr>\n",
       "    <tr>\n",
       "      <th>1</th>\n",
       "      <td>0</td>\n",
       "      <td>'C352968107'</td>\n",
       "      <td>'2'</td>\n",
       "      <td>'M'</td>\n",
       "      <td>'28007'</td>\n",
       "      <td>'M348934600'</td>\n",
       "      <td>'28007'</td>\n",
       "      <td>'es_transportation'</td>\n",
       "      <td>39.68</td>\n",
       "      <td>0</td>\n",
       "    </tr>\n",
       "    <tr>\n",
       "      <th>2</th>\n",
       "      <td>0</td>\n",
       "      <td>'C2054744914'</td>\n",
       "      <td>'4'</td>\n",
       "      <td>'F'</td>\n",
       "      <td>'28007'</td>\n",
       "      <td>'M1823072687'</td>\n",
       "      <td>'28007'</td>\n",
       "      <td>'es_transportation'</td>\n",
       "      <td>26.89</td>\n",
       "      <td>0</td>\n",
       "    </tr>\n",
       "    <tr>\n",
       "      <th>3</th>\n",
       "      <td>0</td>\n",
       "      <td>'C1760612790'</td>\n",
       "      <td>'3'</td>\n",
       "      <td>'M'</td>\n",
       "      <td>'28007'</td>\n",
       "      <td>'M348934600'</td>\n",
       "      <td>'28007'</td>\n",
       "      <td>'es_transportation'</td>\n",
       "      <td>17.25</td>\n",
       "      <td>0</td>\n",
       "    </tr>\n",
       "    <tr>\n",
       "      <th>4</th>\n",
       "      <td>0</td>\n",
       "      <td>'C757503768'</td>\n",
       "      <td>'5'</td>\n",
       "      <td>'M'</td>\n",
       "      <td>'28007'</td>\n",
       "      <td>'M348934600'</td>\n",
       "      <td>'28007'</td>\n",
       "      <td>'es_transportation'</td>\n",
       "      <td>35.72</td>\n",
       "      <td>0</td>\n",
       "    </tr>\n",
       "  </tbody>\n",
       "</table>\n",
       "</div>"
      ],
      "text/plain": [
       "   step       customer  age gender zipcodeOri       merchant zipMerchant  \\\n",
       "0     0  'C1093826151'  '4'    'M'    '28007'   'M348934600'     '28007'   \n",
       "1     0   'C352968107'  '2'    'M'    '28007'   'M348934600'     '28007'   \n",
       "2     0  'C2054744914'  '4'    'F'    '28007'  'M1823072687'     '28007'   \n",
       "3     0  'C1760612790'  '3'    'M'    '28007'   'M348934600'     '28007'   \n",
       "4     0   'C757503768'  '5'    'M'    '28007'   'M348934600'     '28007'   \n",
       "\n",
       "              category  amount  fraud  \n",
       "0  'es_transportation'    4.55      0  \n",
       "1  'es_transportation'   39.68      0  \n",
       "2  'es_transportation'   26.89      0  \n",
       "3  'es_transportation'   17.25      0  \n",
       "4  'es_transportation'   35.72      0  "
      ]
     },
     "execution_count": 2,
     "metadata": {},
     "output_type": "execute_result"
    }
   ],
   "source": [
    "import pandas as pd\n",
    "\n",
    "df = pd.read_csv(\"bankPayments.csv\")\n",
    "df.head()"
   ]
  },
  {
   "cell_type": "code",
   "execution_count": 3,
   "metadata": {},
   "outputs": [],
   "source": [
    "import torch"
   ]
  },
  {
   "cell_type": "code",
   "execution_count": 4,
   "metadata": {},
   "outputs": [],
   "source": [
    "import seaborn as sns\n",
    "import numpy as np\n",
    "\n",
    "from torch import nn\n",
    "\n",
    "np.random.seed(1)"
   ]
  },
  {
   "cell_type": "markdown",
   "metadata": {},
   "source": [
    "Here we are exploring various aspects of the data. First, we see which merchant IDs are the most frequent."
   ]
  },
  {
   "cell_type": "code",
   "execution_count": 5,
   "metadata": {},
   "outputs": [
    {
     "name": "stdout",
     "output_type": "stream",
     "text": [
      "merchant\n",
      "'M1823072687'    299693\n",
      "'M348934600'     205426\n",
      "'M85975013'       26254\n",
      "'M1053599405'      6821\n",
      "'M151143676'       6373\n",
      "'M855959430'       6098\n",
      "'M1946091778'      5343\n",
      "'M1913465890'      3988\n",
      "'M209847108'       3814\n",
      "'M480139044'       3508\n",
      "'M349281107'       2881\n",
      "'M1600850729'      2624\n",
      "'M1535107174'      1868\n",
      "'M980657600'       1769\n",
      "'M78078399'        1608\n",
      "'M1198415165'      1580\n",
      "'M840466850'       1399\n",
      "'M1649169323'      1173\n",
      "'M547558035'        949\n",
      "'M50039827'         916\n",
      "'M1888755466'       912\n",
      "'M692898500'        900\n",
      "'M1400236507'       776\n",
      "'M1842530320'       751\n",
      "'M732195782'        608\n",
      "'M97925176'         599\n",
      "'M45060432'         573\n",
      "'M1741626453'       528\n",
      "'M1313686961'       527\n",
      "'M1872033263'       525\n",
      "'M1352454843'       370\n",
      "'M677738360'        358\n",
      "'M2122776122'       341\n",
      "'M923029380'        323\n",
      "'M3697346'          308\n",
      "'M17379832'         282\n",
      "'M1748431652'       274\n",
      "'M1873032707'       250\n",
      "'M2011752106'       244\n",
      "'M1416436880'       220\n",
      "'M1294758098'       191\n",
      "'M1788569036'       181\n",
      "'M857378720'        122\n",
      "'M348875670'        107\n",
      "'M1353266412'        78\n",
      "'M495352832'         69\n",
      "'M933210764'         69\n",
      "'M2080407379'        48\n",
      "'M117188757'         21\n",
      "'M1726401631'         3\n",
      "Name: count, dtype: int64\n"
     ]
    }
   ],
   "source": [
    "print(df[\"merchant\"].value_counts())"
   ]
  },
  {
   "cell_type": "markdown",
   "metadata": {},
   "source": [
    "Then, we look at the distribution of gender within the customers that are committing fraudulent payments."
   ]
  },
  {
   "cell_type": "code",
   "execution_count": 6,
   "metadata": {},
   "outputs": [
    {
     "data": {
      "text/html": [
       "<div>\n",
       "<style scoped>\n",
       "    .dataframe tbody tr th:only-of-type {\n",
       "        vertical-align: middle;\n",
       "    }\n",
       "\n",
       "    .dataframe tbody tr th {\n",
       "        vertical-align: top;\n",
       "    }\n",
       "\n",
       "    .dataframe thead th {\n",
       "        text-align: right;\n",
       "    }\n",
       "</style>\n",
       "<table border=\"1\" class=\"dataframe\">\n",
       "  <thead>\n",
       "    <tr style=\"text-align: right;\">\n",
       "      <th></th>\n",
       "      <th>fraud</th>\n",
       "    </tr>\n",
       "    <tr>\n",
       "      <th>gender</th>\n",
       "      <th></th>\n",
       "    </tr>\n",
       "  </thead>\n",
       "  <tbody>\n",
       "    <tr>\n",
       "      <th>'E'</th>\n",
       "      <td>7</td>\n",
       "    </tr>\n",
       "    <tr>\n",
       "      <th>'F'</th>\n",
       "      <td>4758</td>\n",
       "    </tr>\n",
       "    <tr>\n",
       "      <th>'M'</th>\n",
       "      <td>2435</td>\n",
       "    </tr>\n",
       "    <tr>\n",
       "      <th>'U'</th>\n",
       "      <td>0</td>\n",
       "    </tr>\n",
       "  </tbody>\n",
       "</table>\n",
       "</div>"
      ],
      "text/plain": [
       "        fraud\n",
       "gender       \n",
       "'E'         7\n",
       "'F'      4758\n",
       "'M'      2435\n",
       "'U'         0"
      ]
     },
     "execution_count": 6,
     "metadata": {},
     "output_type": "execute_result"
    }
   ],
   "source": [
    "df1 = df[[\"gender\", \"fraud\"]]\n",
    "df1.groupby(\"gender\").aggregate('sum')"
   ]
  },
  {
   "cell_type": "markdown",
   "metadata": {},
   "source": [
    "Then, we look at the frequency of fraud within different payment categories; it seems that `health` and `sportsandtoys` have the highest frequency of fraud."
   ]
  },
  {
   "cell_type": "code",
   "execution_count": 7,
   "metadata": {},
   "outputs": [
    {
     "data": {
      "text/html": [
       "<div>\n",
       "<style scoped>\n",
       "    .dataframe tbody tr th:only-of-type {\n",
       "        vertical-align: middle;\n",
       "    }\n",
       "\n",
       "    .dataframe tbody tr th {\n",
       "        vertical-align: top;\n",
       "    }\n",
       "\n",
       "    .dataframe thead th {\n",
       "        text-align: right;\n",
       "    }\n",
       "</style>\n",
       "<table border=\"1\" class=\"dataframe\">\n",
       "  <thead>\n",
       "    <tr style=\"text-align: right;\">\n",
       "      <th></th>\n",
       "      <th>fraud</th>\n",
       "    </tr>\n",
       "    <tr>\n",
       "      <th>category</th>\n",
       "      <th></th>\n",
       "    </tr>\n",
       "  </thead>\n",
       "  <tbody>\n",
       "    <tr>\n",
       "      <th>'es_barsandrestaurants'</th>\n",
       "      <td>120</td>\n",
       "    </tr>\n",
       "    <tr>\n",
       "      <th>'es_contents'</th>\n",
       "      <td>0</td>\n",
       "    </tr>\n",
       "    <tr>\n",
       "      <th>'es_fashion'</th>\n",
       "      <td>116</td>\n",
       "    </tr>\n",
       "    <tr>\n",
       "      <th>'es_food'</th>\n",
       "      <td>0</td>\n",
       "    </tr>\n",
       "    <tr>\n",
       "      <th>'es_health'</th>\n",
       "      <td>1696</td>\n",
       "    </tr>\n",
       "    <tr>\n",
       "      <th>'es_home'</th>\n",
       "      <td>302</td>\n",
       "    </tr>\n",
       "    <tr>\n",
       "      <th>'es_hotelservices'</th>\n",
       "      <td>548</td>\n",
       "    </tr>\n",
       "    <tr>\n",
       "      <th>'es_hyper'</th>\n",
       "      <td>280</td>\n",
       "    </tr>\n",
       "    <tr>\n",
       "      <th>'es_leisure'</th>\n",
       "      <td>474</td>\n",
       "    </tr>\n",
       "    <tr>\n",
       "      <th>'es_otherservices'</th>\n",
       "      <td>228</td>\n",
       "    </tr>\n",
       "    <tr>\n",
       "      <th>'es_sportsandtoys'</th>\n",
       "      <td>1982</td>\n",
       "    </tr>\n",
       "    <tr>\n",
       "      <th>'es_tech'</th>\n",
       "      <td>158</td>\n",
       "    </tr>\n",
       "    <tr>\n",
       "      <th>'es_transportation'</th>\n",
       "      <td>0</td>\n",
       "    </tr>\n",
       "    <tr>\n",
       "      <th>'es_travel'</th>\n",
       "      <td>578</td>\n",
       "    </tr>\n",
       "    <tr>\n",
       "      <th>'es_wellnessandbeauty'</th>\n",
       "      <td>718</td>\n",
       "    </tr>\n",
       "  </tbody>\n",
       "</table>\n",
       "</div>"
      ],
      "text/plain": [
       "                         fraud\n",
       "category                      \n",
       "'es_barsandrestaurants'    120\n",
       "'es_contents'                0\n",
       "'es_fashion'               116\n",
       "'es_food'                    0\n",
       "'es_health'               1696\n",
       "'es_home'                  302\n",
       "'es_hotelservices'         548\n",
       "'es_hyper'                 280\n",
       "'es_leisure'               474\n",
       "'es_otherservices'         228\n",
       "'es_sportsandtoys'        1982\n",
       "'es_tech'                  158\n",
       "'es_transportation'          0\n",
       "'es_travel'                578\n",
       "'es_wellnessandbeauty'     718"
      ]
     },
     "execution_count": 7,
     "metadata": {},
     "output_type": "execute_result"
    }
   ],
   "source": [
    "df2 = df[[\"category\", \"fraud\"]]\n",
    "df2.groupby(\"category\").aggregate('sum')"
   ]
  },
  {
   "cell_type": "markdown",
   "metadata": {},
   "source": [
    "Here we are investigating the average dollar amount for financial transaction in each payment category."
   ]
  },
  {
   "cell_type": "code",
   "execution_count": 8,
   "metadata": {},
   "outputs": [
    {
     "data": {
      "text/html": [
       "<div>\n",
       "<style scoped>\n",
       "    .dataframe tbody tr th:only-of-type {\n",
       "        vertical-align: middle;\n",
       "    }\n",
       "\n",
       "    .dataframe tbody tr th {\n",
       "        vertical-align: top;\n",
       "    }\n",
       "\n",
       "    .dataframe thead th {\n",
       "        text-align: right;\n",
       "    }\n",
       "</style>\n",
       "<table border=\"1\" class=\"dataframe\">\n",
       "  <thead>\n",
       "    <tr style=\"text-align: right;\">\n",
       "      <th></th>\n",
       "      <th>amount</th>\n",
       "    </tr>\n",
       "    <tr>\n",
       "      <th>category</th>\n",
       "      <th></th>\n",
       "    </tr>\n",
       "  </thead>\n",
       "  <tbody>\n",
       "    <tr>\n",
       "      <th>'es_barsandrestaurants'</th>\n",
       "      <td>43.461014</td>\n",
       "    </tr>\n",
       "    <tr>\n",
       "      <th>'es_contents'</th>\n",
       "      <td>44.547571</td>\n",
       "    </tr>\n",
       "    <tr>\n",
       "      <th>'es_fashion'</th>\n",
       "      <td>65.666642</td>\n",
       "    </tr>\n",
       "    <tr>\n",
       "      <th>'es_food'</th>\n",
       "      <td>37.070405</td>\n",
       "    </tr>\n",
       "    <tr>\n",
       "      <th>'es_health'</th>\n",
       "      <td>135.621367</td>\n",
       "    </tr>\n",
       "    <tr>\n",
       "      <th>'es_home'</th>\n",
       "      <td>165.670846</td>\n",
       "    </tr>\n",
       "    <tr>\n",
       "      <th>'es_hotelservices'</th>\n",
       "      <td>205.614249</td>\n",
       "    </tr>\n",
       "    <tr>\n",
       "      <th>'es_hyper'</th>\n",
       "      <td>45.970421</td>\n",
       "    </tr>\n",
       "    <tr>\n",
       "      <th>'es_leisure'</th>\n",
       "      <td>288.911303</td>\n",
       "    </tr>\n",
       "    <tr>\n",
       "      <th>'es_otherservices'</th>\n",
       "      <td>135.881524</td>\n",
       "    </tr>\n",
       "    <tr>\n",
       "      <th>'es_sportsandtoys'</th>\n",
       "      <td>215.715280</td>\n",
       "    </tr>\n",
       "    <tr>\n",
       "      <th>'es_tech'</th>\n",
       "      <td>120.947937</td>\n",
       "    </tr>\n",
       "    <tr>\n",
       "      <th>'es_transportation'</th>\n",
       "      <td>26.958187</td>\n",
       "    </tr>\n",
       "    <tr>\n",
       "      <th>'es_travel'</th>\n",
       "      <td>2250.409190</td>\n",
       "    </tr>\n",
       "    <tr>\n",
       "      <th>'es_wellnessandbeauty'</th>\n",
       "      <td>65.511221</td>\n",
       "    </tr>\n",
       "  </tbody>\n",
       "</table>\n",
       "</div>"
      ],
      "text/plain": [
       "                              amount\n",
       "category                            \n",
       "'es_barsandrestaurants'    43.461014\n",
       "'es_contents'              44.547571\n",
       "'es_fashion'               65.666642\n",
       "'es_food'                  37.070405\n",
       "'es_health'               135.621367\n",
       "'es_home'                 165.670846\n",
       "'es_hotelservices'        205.614249\n",
       "'es_hyper'                 45.970421\n",
       "'es_leisure'              288.911303\n",
       "'es_otherservices'        135.881524\n",
       "'es_sportsandtoys'        215.715280\n",
       "'es_tech'                 120.947937\n",
       "'es_transportation'        26.958187\n",
       "'es_travel'              2250.409190\n",
       "'es_wellnessandbeauty'     65.511221"
      ]
     },
     "execution_count": 8,
     "metadata": {},
     "output_type": "execute_result"
    }
   ],
   "source": [
    "df3 = df[[\"category\", \"amount\"]]\n",
    "df3.groupby(\"category\").aggregate('mean')"
   ]
  },
  {
   "cell_type": "code",
   "execution_count": 9,
   "metadata": {},
   "outputs": [
    {
     "name": "stderr",
     "output_type": "stream",
     "text": [
      "/Users/tristanmeyer/anaconda3/envs/ml-0451/lib/python3.9/site-packages/seaborn/_oldcore.py:1119: FutureWarning: use_inf_as_na option is deprecated and will be removed in a future version. Convert inf values to NaN before operating instead.\n",
      "  with pd.option_context('mode.use_inf_as_na', True):\n"
     ]
    },
    {
     "data": {
      "text/plain": [
       "[Text(0.5, 1.0, 'Visualizing the number of Fraudulent Transactions over different Amounts')]"
      ]
     },
     "execution_count": 9,
     "metadata": {},
     "output_type": "execute_result"
    },
    {
     "data": {
      "image/png": "[encoded data removed]",
      "text/plain": [
       "<Figure size 640x480 with 1 Axes>"
      ]
     },
     "metadata": {},
     "output_type": "display_data"
    }
   ],
   "source": [
    "df3 = df[[\"amount\", \"fraud\"]]\n",
    "df3 = df3[df3[\"fraud\"] == 1]\n",
    "v0 = sns.histplot(data=df3, x=\"amount\", bins=8)\n",
    "v0.set(title=\"Visualizing the number of Fraudulent Transactions over different Amounts\")\n",
    "#df3['cat_age'] = np.select([df2.amount < 2000, df2.amount < 4000, df2.amount < 6000, df2.amount < 8000], ['<2000', '2000-4000','4000-6000','6000-8000'], '>8000')"
   ]
  },
  {
   "attachments": {},
   "cell_type": "markdown",
   "metadata": {},
   "source": [
    "This visualization shows the number of fraudulent transactions over different amounts. As the chart shows, the majority of fraudulent transactions occur with amounts under 1000$. "
   ]
  },
  {
   "cell_type": "code",
   "execution_count": 10,
   "metadata": {},
   "outputs": [
    {
     "data": {
      "text/plain": [
       "<Axes: title={'center': 'Visualizing the number of Fraudulent Transactions for each Category'}, xlabel='Fraud Count', ylabel='Category'>"
      ]
     },
     "execution_count": 10,
     "metadata": {},
     "output_type": "execute_result"
    },
    {
     "data": {
      "image/png": "[encoded data removed]",
      "text/plain": [
       "<Figure size 640x480 with 1 Axes>"
      ]
     },
     "metadata": {},
     "output_type": "display_data"
    }
   ],
   "source": [
    "df_vis = df.copy()\n",
    "df_vis[\"category\"] = df_vis[\"category\"].str.slice(4,-1)\n",
    "\n",
    "v1 = sns.barplot(df_vis, x=\"fraud\", y=\"category\", estimator=\"sum\")\n",
    "v1.set(xlabel=\"Fraud Count\", ylabel=\"Category\", title=\"Visualizing the number of Fraudulent Transactions for each Category\")\n",
    "v1"
   ]
  },
  {
   "attachments": {},
   "cell_type": "markdown",
   "metadata": {},
   "source": [
    "This chart shows the number of fraudulent transactions in different categories. As shown, the sports and toys, and health categories have the highest amount of fraudulent transactions. "
   ]
  },
  {
   "cell_type": "code",
   "execution_count": 11,
   "metadata": {},
   "outputs": [
    {
     "data": {
      "text/plain": [
       "<Axes: title={'center': 'Visualizing the Average Amount spent per Transaction for each Category'}, xlabel='Average Amount', ylabel='category'>"
      ]
     },
     "execution_count": 11,
     "metadata": {},
     "output_type": "execute_result"
    },
    {
     "data": {
      "image/png": "[encoded data removed]",
      "text/plain": [
       "<Figure size 640x480 with 1 Axes>"
      ]
     },
     "metadata": {},
     "output_type": "display_data"
    }
   ],
   "source": [
    "v2 = sns.barplot(df_vis, x=\"amount\", y=\"category\")\n",
    "v2.set(xlabel=\"Average Amount\", title=\"Visualizing the Average Amount spent per Transaction for each Category\")\n",
    "v2"
   ]
  },
  {
   "attachments": {},
   "cell_type": "markdown",
   "metadata": {},
   "source": [
    "This chart visualizes the average amount of transactions in each category. As shown, the travel category has the largest average amount per transaction, with an average over 2000$. "
   ]
  },
  {
   "cell_type": "code",
   "execution_count": 12,
   "metadata": {},
   "outputs": [
    {
     "name": "stdout",
     "output_type": "stream",
     "text": [
      "594643\n",
      "587443\n",
      "7200\n"
     ]
    }
   ],
   "source": [
    "print(len(df))\n",
    "print(len(df[df['fraud'] == 0]))\n",
    "print(len(df[df['fraud'] == 1]))"
   ]
  },
  {
   "attachments": {},
   "cell_type": "markdown",
   "metadata": {},
   "source": [
    "Our data set contains 594643 total transactions, in which 587443 are not fraud and 7200 are fraud. This different between fraudulent transactions and not fraudulent transactions shows the imbalanced nature of this dataset. This will inform our evaluation method: we need to pay attention to both the true positive and true negative rates to ensure the effectiveness of our model. The true positive rate will represent the model's ability to correctly identify positive instances of fraud."
   ]
  },
  {
   "cell_type": "markdown",
   "metadata": {},
   "source": [
    "# Decision Tree Model"
   ]
  },
  {
   "cell_type": "markdown",
   "metadata": {},
   "source": [
    "We use a scikit-learn Decision Tree Classifier model, for its ability to observe which variables are the most important to a fraud detection model and which variables may be most vulnerable to different attacks."
   ]
  },
  {
   "cell_type": "code",
   "execution_count": 13,
   "metadata": {},
   "outputs": [],
   "source": [
    "from sklearn.tree import DecisionTreeClassifier\n",
    "from sklearn.model_selection import cross_val_score\n",
    "from sklearn import model_selection\n",
    "\n",
    "\n",
    "tree_model = DecisionTreeClassifier(random_state=0)"
   ]
  },
  {
   "cell_type": "markdown",
   "metadata": {},
   "source": [
    "Here we do some data preprocessing, dropping columns that are not useful or too large to be one-hot encoded."
   ]
  },
  {
   "cell_type": "code",
   "execution_count": 14,
   "metadata": {},
   "outputs": [],
   "source": [
    "cols = df.columns\n",
    "cols = cols.drop(['customer', 'zipcodeOri', 'zipMerchant', 'fraud', 'step'])\n",
    "X = df[cols]\n",
    "X = pd.get_dummies(X, dtype= float)\n",
    "y = df['fraud']"
   ]
  },
  {
   "cell_type": "markdown",
   "metadata": {},
   "source": [
    "Then we do a train/test split, with our test data being 33% of our total dataset."
   ]
  },
  {
   "cell_type": "code",
   "execution_count": 15,
   "metadata": {},
   "outputs": [],
   "source": [
    "X_train, X_test, y_train, y_test = model_selection.train_test_split(X, y, test_size = 0.33)"
   ]
  },
  {
   "cell_type": "markdown",
   "metadata": {},
   "source": [
    "Now we train our Decision Tree model."
   ]
  },
  {
   "cell_type": "code",
   "execution_count": 16,
   "metadata": {},
   "outputs": [
    {
     "data": {
      "text/html": [
       "<style>#sk-container-id-1 {color: black;background-color: white;}#sk-container-id-1 pre{padding: 0;}#sk-container-id-1 div.sk-toggleable {background-color: white;}#sk-container-id-1 label.sk-toggleable__label {cursor: pointer;display: block;width: 100%;margin-bottom: 0;padding: 0.3em;box-sizing: border-box;text-align: center;}#sk-container-id-1 label.sk-toggleable__label-arrow:before {content: \"▸\";float: left;margin-right: 0.25em;color: #696969;}#sk-container-id-1 label.sk-toggleable__label-arrow:hover:before {color: black;}#sk-container-id-1 div.sk-estimator:hover label.sk-toggleable__label-arrow:before {color: black;}#sk-container-id-1 div.sk-toggleable__content {max-height: 0;max-width: 0;overflow: hidden;text-align: left;background-color: #f0f8ff;}#sk-container-id-1 div.sk-toggleable__content pre {margin: 0.2em;color: black;border-radius: 0.25em;background-color: #f0f8ff;}#sk-container-id-1 input.sk-toggleable__control:checked~div.sk-toggleable__content {max-height: 200px;max-width: 100%;overflow: auto;}#sk-container-id-1 input.sk-toggleable__control:checked~label.sk-toggleable__label-arrow:before {content: \"▾\";}#sk-container-id-1 div.sk-estimator input.sk-toggleable__control:checked~label.sk-toggleable__label {background-color: #d4ebff;}#sk-container-id-1 div.sk-label input.sk-toggleable__control:checked~label.sk-toggleable__label {background-color: #d4ebff;}#sk-container-id-1 input.sk-hidden--visually {border: 0;clip: rect(1px 1px 1px 1px);clip: rect(1px, 1px, 1px, 1px);height: 1px;margin: -1px;overflow: hidden;padding: 0;position: absolute;width: 1px;}#sk-container-id-1 div.sk-estimator {font-family: monospace;background-color: #f0f8ff;border: 1px dotted black;border-radius: 0.25em;box-sizing: border-box;margin-bottom: 0.5em;}#sk-container-id-1 div.sk-estimator:hover {background-color: #d4ebff;}#sk-container-id-1 div.sk-parallel-item::after {content: \"\";width: 100%;border-bottom: 1px solid gray;flex-grow: 1;}#sk-container-id-1 div.sk-label:hover label.sk-toggleable__label {background-color: #d4ebff;}#sk-container-id-1 div.sk-serial::before {content: \"\";position: absolute;border-left: 1px solid gray;box-sizing: border-box;top: 0;bottom: 0;left: 50%;z-index: 0;}#sk-container-id-1 div.sk-serial {display: flex;flex-direction: column;align-items: center;background-color: white;padding-right: 0.2em;padding-left: 0.2em;position: relative;}#sk-container-id-1 div.sk-item {position: relative;z-index: 1;}#sk-container-id-1 div.sk-parallel {display: flex;align-items: stretch;justify-content: center;background-color: white;position: relative;}#sk-container-id-1 div.sk-item::before, #sk-container-id-1 div.sk-parallel-item::before {content: \"\";position: absolute;border-left: 1px solid gray;box-sizing: border-box;top: 0;bottom: 0;left: 50%;z-index: -1;}#sk-container-id-1 div.sk-parallel-item {display: flex;flex-direction: column;z-index: 1;position: relative;background-color: white;}#sk-container-id-1 div.sk-parallel-item:first-child::after {align-self: flex-end;width: 50%;}#sk-container-id-1 div.sk-parallel-item:last-child::after {align-self: flex-start;width: 50%;}#sk-container-id-1 div.sk-parallel-item:only-child::after {width: 0;}#sk-container-id-1 div.sk-dashed-wrapped {border: 1px dashed gray;margin: 0 0.4em 0.5em 0.4em;box-sizing: border-box;padding-bottom: 0.4em;background-color: white;}#sk-container-id-1 div.sk-label label {font-family: monospace;font-weight: bold;display: inline-block;line-height: 1.2em;}#sk-container-id-1 div.sk-label-container {text-align: center;}#sk-container-id-1 div.sk-container {/* jupyter's `normalize.less` sets `[hidden] { display: none; }` but bootstrap.min.css set `[hidden] { display: none !important; }` so we also need the `!important` here to be able to override the default hidden behavior on the sphinx rendered scikit-learn.org. See: https://github.com/scikit-learn/scikit-learn/issues/21755 */display: inline-block !important;position: relative;}#sk-container-id-1 div.sk-text-repr-fallback {display: none;}</style><div id=\"sk-container-id-1\" class=\"sk-top-container\"><div class=\"sk-text-repr-fallback\"><pre>DecisionTreeClassifier(random_state=0)</pre><b>In a Jupyter environment, please rerun this cell to show the HTML representation or trust the notebook. <br />On GitHub, the HTML representation is unable to render, please try loading this page with nbviewer.org.</b></div><div class=\"sk-container\" hidden><div class=\"sk-item\"><div class=\"sk-estimator sk-toggleable\"><input class=\"sk-toggleable__control sk-hidden--visually\" id=\"sk-estimator-id-1\" type=\"checkbox\" checked><label for=\"sk-estimator-id-1\" class=\"sk-toggleable__label sk-toggleable__label-arrow\">DecisionTreeClassifier</label><div class=\"sk-toggleable__content\"><pre>DecisionTreeClassifier(random_state=0)</pre></div></div></div></div></div>"
      ],
      "text/plain": [
       "DecisionTreeClassifier(random_state=0)"
      ]
     },
     "execution_count": 16,
     "metadata": {},
     "output_type": "execute_result"
    }
   ],
   "source": [
    "torch.manual_seed(1)\n",
    "tree_model.fit(X_train, y_train)"
   ]
  },
  {
   "cell_type": "markdown",
   "metadata": {},
   "source": [
    "Using cross validation to improve our model."
   ]
  },
  {
   "cell_type": "code",
   "execution_count": 17,
   "metadata": {},
   "outputs": [
    {
     "data": {
      "text/plain": [
       "array([0.99351676, 0.9939158 , 0.9936899 ])"
      ]
     },
     "execution_count": 17,
     "metadata": {},
     "output_type": "execute_result"
    }
   ],
   "source": [
    "cross_val_score(tree_model, X_train, y_train, cv = 3)"
   ]
  },
  {
   "cell_type": "markdown",
   "metadata": {},
   "source": [
    "Now we test its effectiveness by analyzing its true positive rate and true negative rates on both training and test data. As we can see, the model performs remarkably well on the training data, and has a sufficiently high fraud detection rate (show by the true positive rate) on the testing data."
   ]
  },
  {
   "cell_type": "code",
   "execution_count": 18,
   "metadata": {},
   "outputs": [
    {
     "name": "stdout",
     "output_type": "stream",
     "text": [
      "True Positive Rate on Training Data with Unpoisoned Model = 99.79%\n",
      "True Negative Rate on Training Data with Unpoisoned Model = 100.00%\n"
     ]
    }
   ],
   "source": [
    "from sklearn.metrics import confusion_matrix\n",
    "\n",
    "train_preds = tree_model.predict(X_train)\n",
    "y_true = y_train\n",
    "\n",
    "tn, fp, fn, tp = confusion_matrix(y_true= y_true, y_pred= train_preds).ravel()\n",
    "print(f'True Positive Rate on Training Data with Unpoisoned Model = {tp/(tp+fn)*100:.2f}%')\n",
    "print(f'True Negative Rate on Training Data with Unpoisoned Model = {tn/(tn+fp) * 100:.2f}%')"
   ]
  },
  {
   "cell_type": "code",
   "execution_count": 19,
   "metadata": {},
   "outputs": [
    {
     "name": "stdout",
     "output_type": "stream",
     "text": [
      "True Positive Rate on Test Data with Unpoisoned Model = 76.18%\n",
      "True Negative Rate on Test Data with Unpoisoned Model = 99.71%\n"
     ]
    }
   ],
   "source": [
    "test_preds = tree_model.predict(X_test)\n",
    "y_true = y_test\n",
    "\n",
    "tn, fp, fn, tp = confusion_matrix(y_true= y_true, y_pred= test_preds).ravel()\n",
    "tp_unpoisoned = f'True Positive Rate on Test Data with Unpoisoned Model = {tp/(tp+fn)*100:.2f}%'\n",
    "tn_unpoisoned = f'True Negative Rate on Test Data with Unpoisoned Model = {tn/(tn+fp) * 100:.2f}%'\n",
    "print(tp_unpoisoned)\n",
    "print(tn_unpoisoned)"
   ]
  },
  {
   "cell_type": "markdown",
   "metadata": {},
   "source": [
    "With a relatively high true positive rate, this is a sufficiently accurate fraud detection model for our purposes."
   ]
  },
  {
   "cell_type": "markdown",
   "metadata": {},
   "source": [
    "Now, we investigate how the variables were used in this decision tree, so that we can find the features of the data that were most important in the classification process, and thus most vulnerable to an injection."
   ]
  },
  {
   "cell_type": "code",
   "execution_count": 20,
   "metadata": {},
   "outputs": [
    {
     "data": {
      "text/html": [
       "<div>\n",
       "<style scoped>\n",
       "    .dataframe tbody tr th:only-of-type {\n",
       "        vertical-align: middle;\n",
       "    }\n",
       "\n",
       "    .dataframe tbody tr th {\n",
       "        vertical-align: top;\n",
       "    }\n",
       "\n",
       "    .dataframe thead th {\n",
       "        text-align: right;\n",
       "    }\n",
       "</style>\n",
       "<table border=\"1\" class=\"dataframe\">\n",
       "  <thead>\n",
       "    <tr style=\"text-align: right;\">\n",
       "      <th></th>\n",
       "      <th>feature</th>\n",
       "      <th>importance</th>\n",
       "    </tr>\n",
       "  </thead>\n",
       "  <tbody>\n",
       "    <tr>\n",
       "      <th>0</th>\n",
       "      <td>amount</td>\n",
       "      <td>0.716596</td>\n",
       "    </tr>\n",
       "    <tr>\n",
       "      <th>62</th>\n",
       "      <td>merchant_'M980657600'</td>\n",
       "      <td>0.059733</td>\n",
       "    </tr>\n",
       "    <tr>\n",
       "      <th>13</th>\n",
       "      <td>merchant_'M1053599405'</td>\n",
       "      <td>0.025989</td>\n",
       "    </tr>\n",
       "    <tr>\n",
       "      <th>47</th>\n",
       "      <td>merchant_'M480139044'</td>\n",
       "      <td>0.021692</td>\n",
       "    </tr>\n",
       "    <tr>\n",
       "      <th>36</th>\n",
       "      <td>merchant_'M1913465890'</td>\n",
       "      <td>0.018560</td>\n",
       "    </tr>\n",
       "    <tr>\n",
       "      <th>71</th>\n",
       "      <td>category_'es_leisure'</td>\n",
       "      <td>0.018383</td>\n",
       "    </tr>\n",
       "    <tr>\n",
       "      <th>56</th>\n",
       "      <td>merchant_'M855959430'</td>\n",
       "      <td>0.010980</td>\n",
       "    </tr>\n",
       "    <tr>\n",
       "      <th>34</th>\n",
       "      <td>merchant_'M1873032707'</td>\n",
       "      <td>0.009916</td>\n",
       "    </tr>\n",
       "    <tr>\n",
       "      <th>3</th>\n",
       "      <td>age_'2'</td>\n",
       "      <td>0.008878</td>\n",
       "    </tr>\n",
       "    <tr>\n",
       "      <th>10</th>\n",
       "      <td>gender_'F'</td>\n",
       "      <td>0.007778</td>\n",
       "    </tr>\n",
       "  </tbody>\n",
       "</table>\n",
       "</div>"
      ],
      "text/plain": [
       "                   feature  importance\n",
       "0                   amount    0.716596\n",
       "62   merchant_'M980657600'    0.059733\n",
       "13  merchant_'M1053599405'    0.025989\n",
       "47   merchant_'M480139044'    0.021692\n",
       "36  merchant_'M1913465890'    0.018560\n",
       "71   category_'es_leisure'    0.018383\n",
       "56   merchant_'M855959430'    0.010980\n",
       "34  merchant_'M1873032707'    0.009916\n",
       "3                  age_'2'    0.008878\n",
       "10              gender_'F'    0.007778"
      ]
     },
     "execution_count": 20,
     "metadata": {},
     "output_type": "execute_result"
    }
   ],
   "source": [
    "import numpy as np\n",
    "assert len(X.columns) == len(tree_model.feature_importances_)\n",
    "\n",
    "importance_data = {\n",
    "    'feature': X.columns,\n",
    "    'importance': tree_model.feature_importances_\n",
    "}\n",
    "imp = pd.DataFrame(importance_data).sort_values(by= 'importance', axis = 0, ascending = False)\n",
    "imp.head(10)"
   ]
  },
  {
   "attachments": {},
   "cell_type": "markdown",
   "metadata": {},
   "source": [
    "## Data Poisoning (Appending Rows: Targeting Specific Merchants)"
   ]
  },
  {
   "cell_type": "markdown",
   "metadata": {},
   "source": [
    "Merchant-specific analysis for data poisoning. Here we are looking at the most important merchants in the decision tree, and determining whether they are important because they commit a lot of fraud or because they commit very little, i.e., whether they have a positive or negative effect on the decision process of the model."
   ]
  },
  {
   "cell_type": "code",
   "execution_count": 21,
   "metadata": {},
   "outputs": [
    {
     "name": "stdout",
     "output_type": "stream",
     "text": [
      "Rate of fraud for merchant M980657600:  0.83%\n",
      "Rate of fraud for merchant M1053599405: 0.00%\n",
      "Rate of fraud for merchant M1913465890: 0.00%\n",
      "Rate of fraud for merchant M480139044:  0.47%\n"
     ]
    }
   ],
   "source": [
    "df4 = df[['merchant', 'fraud']]\n",
    "\n",
    "m_98065_count = df4['merchant'].value_counts()[\"'M980657600'\"]\n",
    "m_10535_count = df4['merchant'].value_counts()[\"'M1053599405'\"]\n",
    "m_19134_count = df4['merchant'].value_counts()[\"'M1913465890'\"]\n",
    "m_48013_count = df4['merchant'].value_counts()[\"'M480139044'\"]\n",
    "\n",
    "df4 = df4.groupby('merchant')['fraud'].sum()\n",
    "m_98065_fraud = df4[\"'M980657600'\"]\n",
    "m_10535_fraud = df4[\"'M1053599405'\"]\n",
    "m_19134_fraud = df4[\"'M1913465890'\"]\n",
    "m_48013_fraud = df4[\"'M480139044'\"]\n",
    "\n",
    "print(f'Rate of fraud for merchant M980657600:  {m_98065_fraud/m_98065_count:0.2f}%')\n",
    "print(f'Rate of fraud for merchant M1053599405: {m_10535_fraud/m_10535_count:0.2f}%')\n",
    "print(f'Rate of fraud for merchant M1913465890: {m_19134_fraud/m_19134_count:0.2f}%')\n",
    "print(f'Rate of fraud for merchant M480139044:  {m_48013_fraud/m_48013_count:0.2f}%')"
   ]
  },
  {
   "cell_type": "markdown",
   "metadata": {},
   "source": [
    "It seems that merchants M980657600 and M480139044 are important to the decision tree due to their high rates of fraud, while merchants M1053599405 and M1913465890 are important due to their extremely low rate of fraud. A potential data poisoning attack strategy on these two merchants would likely involve injecting data that would change their fraud rates within the dataset, so that the decision tree model's behavior upon test data that contains instances of these merchants would be affected."
   ]
  },
  {
   "cell_type": "markdown",
   "metadata": {},
   "source": [
    "Another possible attack could look at the least important features of a classification model, and try to heavily influence the outcomes regarding a specific person/business (i.e., merchant). For example, for a merchant whose ID is listed as very low on the decision tree, which likely means that there are very few data points involving that merchant, we could try to influence the model to always flag fraud on all transactions involving that merchant, without affecting the overall accuracy of the model."
   ]
  },
  {
   "cell_type": "code",
   "execution_count": 22,
   "metadata": {},
   "outputs": [
    {
     "data": {
      "text/html": [
       "<div>\n",
       "<style scoped>\n",
       "    .dataframe tbody tr th:only-of-type {\n",
       "        vertical-align: middle;\n",
       "    }\n",
       "\n",
       "    .dataframe tbody tr th {\n",
       "        vertical-align: top;\n",
       "    }\n",
       "\n",
       "    .dataframe thead th {\n",
       "        text-align: right;\n",
       "    }\n",
       "</style>\n",
       "<table border=\"1\" class=\"dataframe\">\n",
       "  <thead>\n",
       "    <tr style=\"text-align: right;\">\n",
       "      <th></th>\n",
       "      <th>feature</th>\n",
       "      <th>importance</th>\n",
       "    </tr>\n",
       "  </thead>\n",
       "  <tbody>\n",
       "    <tr>\n",
       "      <th>77</th>\n",
       "      <td>category_'es_wellnessandbeauty'</td>\n",
       "      <td>0.0</td>\n",
       "    </tr>\n",
       "    <tr>\n",
       "      <th>51</th>\n",
       "      <td>merchant_'M677738360'</td>\n",
       "      <td>0.0</td>\n",
       "    </tr>\n",
       "    <tr>\n",
       "      <th>45</th>\n",
       "      <td>merchant_'M3697346'</td>\n",
       "      <td>0.0</td>\n",
       "    </tr>\n",
       "    <tr>\n",
       "      <th>43</th>\n",
       "      <td>merchant_'M348934600'</td>\n",
       "      <td>0.0</td>\n",
       "    </tr>\n",
       "    <tr>\n",
       "      <th>58</th>\n",
       "      <td>merchant_'M85975013'</td>\n",
       "      <td>0.0</td>\n",
       "    </tr>\n",
       "    <tr>\n",
       "      <th>37</th>\n",
       "      <td>merchant_'M1946091778'</td>\n",
       "      <td>0.0</td>\n",
       "    </tr>\n",
       "    <tr>\n",
       "      <th>31</th>\n",
       "      <td>merchant_'M1823072687'</td>\n",
       "      <td>0.0</td>\n",
       "    </tr>\n",
       "    <tr>\n",
       "      <th>26</th>\n",
       "      <td>merchant_'M1726401631'</td>\n",
       "      <td>0.0</td>\n",
       "    </tr>\n",
       "    <tr>\n",
       "      <th>24</th>\n",
       "      <td>merchant_'M1600850729'</td>\n",
       "      <td>0.0</td>\n",
       "    </tr>\n",
       "    <tr>\n",
       "      <th>22</th>\n",
       "      <td>merchant_'M151143676'</td>\n",
       "      <td>0.0</td>\n",
       "    </tr>\n",
       "    <tr>\n",
       "      <th>17</th>\n",
       "      <td>merchant_'M1313686961'</td>\n",
       "      <td>0.0</td>\n",
       "    </tr>\n",
       "    <tr>\n",
       "      <th>16</th>\n",
       "      <td>merchant_'M1294758098'</td>\n",
       "      <td>0.0</td>\n",
       "    </tr>\n",
       "    <tr>\n",
       "      <th>14</th>\n",
       "      <td>merchant_'M117188757'</td>\n",
       "      <td>0.0</td>\n",
       "    </tr>\n",
       "    <tr>\n",
       "      <th>61</th>\n",
       "      <td>merchant_'M97925176'</td>\n",
       "      <td>0.0</td>\n",
       "    </tr>\n",
       "    <tr>\n",
       "      <th>12</th>\n",
       "      <td>gender_'U'</td>\n",
       "      <td>0.0</td>\n",
       "    </tr>\n",
       "    <tr>\n",
       "      <th>75</th>\n",
       "      <td>category_'es_transportation'</td>\n",
       "      <td>0.0</td>\n",
       "    </tr>\n",
       "  </tbody>\n",
       "</table>\n",
       "</div>"
      ],
      "text/plain": [
       "                            feature  importance\n",
       "77  category_'es_wellnessandbeauty'         0.0\n",
       "51            merchant_'M677738360'         0.0\n",
       "45              merchant_'M3697346'         0.0\n",
       "43            merchant_'M348934600'         0.0\n",
       "58             merchant_'M85975013'         0.0\n",
       "37           merchant_'M1946091778'         0.0\n",
       "31           merchant_'M1823072687'         0.0\n",
       "26           merchant_'M1726401631'         0.0\n",
       "24           merchant_'M1600850729'         0.0\n",
       "22            merchant_'M151143676'         0.0\n",
       "17           merchant_'M1313686961'         0.0\n",
       "16           merchant_'M1294758098'         0.0\n",
       "14            merchant_'M117188757'         0.0\n",
       "61             merchant_'M97925176'         0.0\n",
       "12                       gender_'U'         0.0\n",
       "75     category_'es_transportation'         0.0"
      ]
     },
     "execution_count": 22,
     "metadata": {},
     "output_type": "execute_result"
    }
   ],
   "source": [
    "non_imp = pd.DataFrame(importance_data).sort_values(by= 'importance', axis = 0, ascending = True)\n",
    "non_imp.head(16)"
   ]
  },
  {
   "cell_type": "code",
   "execution_count": 23,
   "metadata": {},
   "outputs": [
    {
     "name": "stdout",
     "output_type": "stream",
     "text": [
      "358\n"
     ]
    }
   ],
   "source": [
    "df6 = df[['merchant', 'fraud']]\n",
    "\n",
    "m_67773_count = df6['merchant'].value_counts()[\"'M677738360'\"]\n",
    "print(m_67773_count)"
   ]
  },
  {
   "cell_type": "markdown",
   "metadata": {},
   "source": [
    "It seems that merchant M677738360 is rated as a non-important feature by the decision tree, and has relatively few data points. We will attempt a data poisoning attack that will inject enough data points to ensure that this merchant is consistently flagged for fraud by the decision tree, without affecting the overall accuracy of our model."
   ]
  },
  {
   "cell_type": "code",
   "execution_count": 24,
   "metadata": {},
   "outputs": [],
   "source": [
    "X_train_poison = X_train.copy()\n",
    "X_train_poison['fraud'] = y_train.copy()"
   ]
  },
  {
   "cell_type": "code",
   "execution_count": 25,
   "metadata": {},
   "outputs": [
    {
     "data": {
      "text/html": [
       "<div>\n",
       "<style scoped>\n",
       "    .dataframe tbody tr th:only-of-type {\n",
       "        vertical-align: middle;\n",
       "    }\n",
       "\n",
       "    .dataframe tbody tr th {\n",
       "        vertical-align: top;\n",
       "    }\n",
       "\n",
       "    .dataframe thead th {\n",
       "        text-align: right;\n",
       "    }\n",
       "</style>\n",
       "<table border=\"1\" class=\"dataframe\">\n",
       "  <thead>\n",
       "    <tr style=\"text-align: right;\">\n",
       "      <th></th>\n",
       "      <th>amount</th>\n",
       "      <th>age_'0'</th>\n",
       "      <th>age_'1'</th>\n",
       "      <th>age_'2'</th>\n",
       "      <th>age_'3'</th>\n",
       "      <th>age_'4'</th>\n",
       "      <th>age_'5'</th>\n",
       "      <th>age_'6'</th>\n",
       "      <th>age_'U'</th>\n",
       "      <th>gender_'E'</th>\n",
       "      <th>...</th>\n",
       "      <th>category_'es_hotelservices'</th>\n",
       "      <th>category_'es_hyper'</th>\n",
       "      <th>category_'es_leisure'</th>\n",
       "      <th>category_'es_otherservices'</th>\n",
       "      <th>category_'es_sportsandtoys'</th>\n",
       "      <th>category_'es_tech'</th>\n",
       "      <th>category_'es_transportation'</th>\n",
       "      <th>category_'es_travel'</th>\n",
       "      <th>category_'es_wellnessandbeauty'</th>\n",
       "      <th>fraud</th>\n",
       "    </tr>\n",
       "  </thead>\n",
       "  <tbody>\n",
       "    <tr>\n",
       "      <th>453713</th>\n",
       "      <td>74.73</td>\n",
       "      <td>0.0</td>\n",
       "      <td>0.0</td>\n",
       "      <td>1.0</td>\n",
       "      <td>0.0</td>\n",
       "      <td>0.0</td>\n",
       "      <td>0.0</td>\n",
       "      <td>0.0</td>\n",
       "      <td>0.0</td>\n",
       "      <td>0.0</td>\n",
       "      <td>...</td>\n",
       "      <td>0.0</td>\n",
       "      <td>0.0</td>\n",
       "      <td>0.0</td>\n",
       "      <td>0.0</td>\n",
       "      <td>0.0</td>\n",
       "      <td>0.0</td>\n",
       "      <td>0.0</td>\n",
       "      <td>0.0</td>\n",
       "      <td>0.0</td>\n",
       "      <td>0</td>\n",
       "    </tr>\n",
       "    <tr>\n",
       "      <th>333756</th>\n",
       "      <td>148.30</td>\n",
       "      <td>0.0</td>\n",
       "      <td>0.0</td>\n",
       "      <td>0.0</td>\n",
       "      <td>1.0</td>\n",
       "      <td>0.0</td>\n",
       "      <td>0.0</td>\n",
       "      <td>0.0</td>\n",
       "      <td>0.0</td>\n",
       "      <td>0.0</td>\n",
       "      <td>...</td>\n",
       "      <td>0.0</td>\n",
       "      <td>0.0</td>\n",
       "      <td>0.0</td>\n",
       "      <td>0.0</td>\n",
       "      <td>0.0</td>\n",
       "      <td>0.0</td>\n",
       "      <td>0.0</td>\n",
       "      <td>0.0</td>\n",
       "      <td>0.0</td>\n",
       "      <td>0</td>\n",
       "    </tr>\n",
       "    <tr>\n",
       "      <th>550667</th>\n",
       "      <td>56.72</td>\n",
       "      <td>0.0</td>\n",
       "      <td>0.0</td>\n",
       "      <td>0.0</td>\n",
       "      <td>1.0</td>\n",
       "      <td>0.0</td>\n",
       "      <td>0.0</td>\n",
       "      <td>0.0</td>\n",
       "      <td>0.0</td>\n",
       "      <td>0.0</td>\n",
       "      <td>...</td>\n",
       "      <td>0.0</td>\n",
       "      <td>0.0</td>\n",
       "      <td>0.0</td>\n",
       "      <td>0.0</td>\n",
       "      <td>0.0</td>\n",
       "      <td>0.0</td>\n",
       "      <td>0.0</td>\n",
       "      <td>0.0</td>\n",
       "      <td>0.0</td>\n",
       "      <td>0</td>\n",
       "    </tr>\n",
       "    <tr>\n",
       "      <th>405390</th>\n",
       "      <td>34.40</td>\n",
       "      <td>0.0</td>\n",
       "      <td>1.0</td>\n",
       "      <td>0.0</td>\n",
       "      <td>0.0</td>\n",
       "      <td>0.0</td>\n",
       "      <td>0.0</td>\n",
       "      <td>0.0</td>\n",
       "      <td>0.0</td>\n",
       "      <td>0.0</td>\n",
       "      <td>...</td>\n",
       "      <td>0.0</td>\n",
       "      <td>0.0</td>\n",
       "      <td>0.0</td>\n",
       "      <td>0.0</td>\n",
       "      <td>0.0</td>\n",
       "      <td>0.0</td>\n",
       "      <td>0.0</td>\n",
       "      <td>0.0</td>\n",
       "      <td>0.0</td>\n",
       "      <td>0</td>\n",
       "    </tr>\n",
       "    <tr>\n",
       "      <th>110299</th>\n",
       "      <td>110.43</td>\n",
       "      <td>0.0</td>\n",
       "      <td>0.0</td>\n",
       "      <td>0.0</td>\n",
       "      <td>1.0</td>\n",
       "      <td>0.0</td>\n",
       "      <td>0.0</td>\n",
       "      <td>0.0</td>\n",
       "      <td>0.0</td>\n",
       "      <td>0.0</td>\n",
       "      <td>...</td>\n",
       "      <td>0.0</td>\n",
       "      <td>0.0</td>\n",
       "      <td>0.0</td>\n",
       "      <td>0.0</td>\n",
       "      <td>0.0</td>\n",
       "      <td>0.0</td>\n",
       "      <td>0.0</td>\n",
       "      <td>0.0</td>\n",
       "      <td>0.0</td>\n",
       "      <td>0</td>\n",
       "    </tr>\n",
       "  </tbody>\n",
       "</table>\n",
       "<p>5 rows × 79 columns</p>\n",
       "</div>"
      ],
      "text/plain": [
       "        amount  age_'0'  age_'1'  age_'2'  age_'3'  age_'4'  age_'5'  age_'6'  \\\n",
       "453713   74.73      0.0      0.0      1.0      0.0      0.0      0.0      0.0   \n",
       "333756  148.30      0.0      0.0      0.0      1.0      0.0      0.0      0.0   \n",
       "550667   56.72      0.0      0.0      0.0      1.0      0.0      0.0      0.0   \n",
       "405390   34.40      0.0      1.0      0.0      0.0      0.0      0.0      0.0   \n",
       "110299  110.43      0.0      0.0      0.0      1.0      0.0      0.0      0.0   \n",
       "\n",
       "        age_'U'  gender_'E'  ...  category_'es_hotelservices'  \\\n",
       "453713      0.0         0.0  ...                          0.0   \n",
       "333756      0.0         0.0  ...                          0.0   \n",
       "550667      0.0         0.0  ...                          0.0   \n",
       "405390      0.0         0.0  ...                          0.0   \n",
       "110299      0.0         0.0  ...                          0.0   \n",
       "\n",
       "        category_'es_hyper'  category_'es_leisure'  \\\n",
       "453713                  0.0                    0.0   \n",
       "333756                  0.0                    0.0   \n",
       "550667                  0.0                    0.0   \n",
       "405390                  0.0                    0.0   \n",
       "110299                  0.0                    0.0   \n",
       "\n",
       "        category_'es_otherservices'  category_'es_sportsandtoys'  \\\n",
       "453713                          0.0                          0.0   \n",
       "333756                          0.0                          0.0   \n",
       "550667                          0.0                          0.0   \n",
       "405390                          0.0                          0.0   \n",
       "110299                          0.0                          0.0   \n",
       "\n",
       "        category_'es_tech'  category_'es_transportation'  \\\n",
       "453713                 0.0                           0.0   \n",
       "333756                 0.0                           0.0   \n",
       "550667                 0.0                           0.0   \n",
       "405390                 0.0                           0.0   \n",
       "110299                 0.0                           0.0   \n",
       "\n",
       "        category_'es_travel'  category_'es_wellnessandbeauty'  fraud  \n",
       "453713                   0.0                              0.0      0  \n",
       "333756                   0.0                              0.0      0  \n",
       "550667                   0.0                              0.0      0  \n",
       "405390                   0.0                              0.0      0  \n",
       "110299                   0.0                              0.0      0  \n",
       "\n",
       "[5 rows x 79 columns]"
      ]
     },
     "execution_count": 25,
     "metadata": {},
     "output_type": "execute_result"
    }
   ],
   "source": [
    "m_67773_examples = X_train_poison[X_train_poison['merchant_\\'M677738360\\''] == 1.0]\n",
    "m_67773_examples.head(5)"
   ]
  },
  {
   "cell_type": "code",
   "execution_count": 26,
   "metadata": {},
   "outputs": [
    {
     "name": "stdout",
     "output_type": "stream",
     "text": [
      "Merchant M67773830 has a fraud rate of 0.0%.\n",
      "They have only 249 transactions within the training set.\n"
     ]
    }
   ],
   "source": [
    "print(f\"Merchant M67773830 has a fraud rate of {m_67773_examples['fraud'].mean():.1f}%.\")\n",
    "print(f'They have only {m_67773_examples.shape[0]} transactions within the training set.')"
   ]
  },
  {
   "cell_type": "markdown",
   "metadata": {},
   "source": [
    "Now we will construct an injection for Merchant M677738360 based upon 200 real data points with a positive fraud value. We will test how many injections it will take for the decision tree model to always flag their transactions for fraud, and then test to see whether these injections affect the overall accuracy rate of the model. We experimented previously with smaller values for $n$, the sample size, but encountered an interesting problem: since the decision tree model values the feature `amount` so heavily, if we were to create data injections that were fraudulent and had similar values for `amount`, the decision tree model would not see this as an indication of the specific merchant being indicative of fraud, but rather the amount values themselves. To avoid this issue, we took a large sample of the merchant's transactions, so that the `amount` value for our injections were varied, yet still representative of the merchant's true transactions."
   ]
  },
  {
   "cell_type": "code",
   "execution_count": 27,
   "metadata": {},
   "outputs": [],
   "source": [
    "m_67773_injection = X_train_poison[X_train_poison['merchant_\\'M677738360\\''] == 1.0].sample(n= 200, replace= False)\n",
    "\n",
    "m_67773_injection = pd.DataFrame.from_dict(m_67773_injection)\n",
    "\n",
    "m_67773_injection['fraud'] = [1, 1, 1, 1, 1, 1, 1, 1, 1, 1, 1, 1, 1, 1, 1, 1, 1, 1, 1, 1, 1, 1, 1, 1, 1,\n",
    "                              1, 1, 1, 1, 1, 1, 1, 1, 1, 1, 1, 1, 1, 1, 1, 1, 1, 1, 1, 1, 1, 1, 1, 1, 1,\n",
    "                              1, 1, 1, 1, 1, 1, 1, 1, 1, 1, 1, 1, 1, 1, 1, 1, 1, 1, 1, 1, 1, 1, 1, 1, 1,\n",
    "                              1, 1, 1, 1, 1, 1, 1, 1, 1, 1, 1, 1, 1, 1, 1, 1, 1, 1, 1, 1, 1, 1, 1, 1, 1,\n",
    "                              1, 1, 1, 1, 1, 1, 1, 1, 1, 1, 1, 1, 1, 1, 1, 1, 1, 1, 1, 1, 1, 1, 1, 1, 1,\n",
    "                              1, 1, 1, 1, 1, 1, 1, 1, 1, 1, 1, 1, 1, 1, 1, 1, 1, 1, 1, 1, 1, 1, 1, 1, 1,\n",
    "                              1, 1, 1, 1, 1, 1, 1, 1, 1, 1, 1, 1, 1, 1, 1, 1, 1, 1, 1, 1, 1, 1, 1, 1, 1,\n",
    "                              1, 1, 1, 1, 1, 1, 1, 1, 1, 1, 1, 1, 1, 1, 1, 1, 1, 1, 1, 1, 1, 1, 1, 1, 1]"
   ]
  },
  {
   "cell_type": "code",
   "execution_count": 28,
   "metadata": {},
   "outputs": [],
   "source": [
    "inj_size = len(m_67773_injection)"
   ]
  },
  {
   "cell_type": "markdown",
   "metadata": {},
   "source": [
    "Here, we experiment with our injection size, taking subsets of our injection and appending them to our training dataset. We increment each test by 100 injection points, up to a total injection size of 1000 data points. In each iteration, we train a new decision tree model, fit it to our training dataset containing the data poisoning injections, and compare its fraud detection predictions on the specific merchant's data points in the testing data set."
   ]
  },
  {
   "cell_type": "code",
   "execution_count": 29,
   "metadata": {},
   "outputs": [
    {
     "name": "stdout",
     "output_type": "stream",
     "text": [
      "For an injection size of 100\n",
      "The poisoned model predicts that 0.00% of the testing data points with the Merchant ID M677738360 are fraudulent.\n",
      "The normal model predicts that 0.00% of the testing data points with the Merchant ID M677738360 are fraudulent.\n",
      "For an injection size of 200\n",
      "The poisoned model predicts that 0.00% of the testing data points with the Merchant ID M677738360 are fraudulent.\n",
      "The normal model predicts that 0.00% of the testing data points with the Merchant ID M677738360 are fraudulent.\n",
      "For an injection size of 300\n",
      "The poisoned model predicts that 33.03% of the testing data points with the Merchant ID M677738360 are fraudulent.\n",
      "The normal model predicts that 0.00% of the testing data points with the Merchant ID M677738360 are fraudulent.\n",
      "For an injection size of 400\n",
      "The poisoned model predicts that 76.15% of the testing data points with the Merchant ID M677738360 are fraudulent.\n",
      "The normal model predicts that 0.00% of the testing data points with the Merchant ID M677738360 are fraudulent.\n",
      "For an injection size of 500\n",
      "The poisoned model predicts that 78.90% of the testing data points with the Merchant ID M677738360 are fraudulent.\n",
      "The normal model predicts that 0.00% of the testing data points with the Merchant ID M677738360 are fraudulent.\n",
      "For an injection size of 600\n",
      "The poisoned model predicts that 75.23% of the testing data points with the Merchant ID M677738360 are fraudulent.\n",
      "The normal model predicts that 0.00% of the testing data points with the Merchant ID M677738360 are fraudulent.\n",
      "For an injection size of 700\n",
      "The poisoned model predicts that 78.90% of the testing data points with the Merchant ID M677738360 are fraudulent.\n",
      "The normal model predicts that 0.00% of the testing data points with the Merchant ID M677738360 are fraudulent.\n",
      "For an injection size of 800\n",
      "The poisoned model predicts that 75.23% of the testing data points with the Merchant ID M677738360 are fraudulent.\n",
      "The normal model predicts that 0.00% of the testing data points with the Merchant ID M677738360 are fraudulent.\n",
      "For an injection size of 900\n",
      "The poisoned model predicts that 79.82% of the testing data points with the Merchant ID M677738360 are fraudulent.\n",
      "The normal model predicts that 0.00% of the testing data points with the Merchant ID M677738360 are fraudulent.\n",
      "For an injection size of 1000\n",
      "The poisoned model predicts that 75.23% of the testing data points with the Merchant ID M677738360 are fraudulent.\n",
      "The normal model predicts that 0.00% of the testing data points with the Merchant ID M677738360 are fraudulent.\n"
     ]
    }
   ],
   "source": [
    "X_train_poison_explore = X_train_poison.copy()\n",
    "\n",
    "for i in range(0, 10):\n",
    "    # injection step\n",
    "    if (i % 2 == 0):\n",
    "        X_train_poison_explore = pd.concat([X_train_poison_explore.copy(), m_67773_injection[:int(inj_size/2)].copy()], axis=0)\n",
    "    else:\n",
    "        X_train_poison_explore = pd.concat([X_train_poison_explore.copy(), m_67773_injection[int(inj_size/2):].copy()], axis=0)\n",
    "\n",
    "\n",
    "    # splitting X and y for decision tree training, dropping fraud feature\n",
    "    y_train_poison_explore = X_train_poison_explore['fraud'].copy()\n",
    "    cols = X_train_poison_explore.columns\n",
    "    cols = cols.drop(['fraud'])\n",
    "    X_train_poison_explore = X_train_poison_explore[cols]\n",
    "\n",
    "    # instantiating new iteration of decision tree and fitting\n",
    "    tree_model_poison = DecisionTreeClassifier(random_state=0)\n",
    "    tree_model_poison.fit(X_train_poison_explore, y_train_poison_explore)\n",
    "\n",
    "    cross_val_score(tree_model_poison, X_train_poison_explore, y_train_poison_explore, cv = 3)\n",
    "\n",
    "    # evaluation of current injection attack on the model's classification of the merchant\n",
    "    m_67773_preds_poison = tree_model_poison.predict(X_test[X_test['merchant_\\'M677738360\\''] == 1.0])\n",
    "    m_67773_preds_unpoisoned = tree_model.predict(X_test[X_test['merchant_\\'M677738360\\''] == 1.0])\n",
    "\n",
    "    print(f'For an injection size of {(i+1)*(int(inj_size/2))}')\n",
    "    print(f'The poisoned model predicts that {m_67773_preds_poison.mean()*100:.2f}% of the testing data points with the Merchant ID M677738360 are fraudulent.')\n",
    "    print(f'The normal model predicts that {m_67773_preds_unpoisoned.mean()*100:.2f}% of the testing data points with the Merchant ID M677738360 are fraudulent.')\n",
    "\n",
    "    # resetting the exploration dataframe for next iteration\n",
    "    X_train_poison_explore['fraud'] = y_train_poison_explore"
   ]
  },
  {
   "cell_type": "markdown",
   "metadata": {},
   "source": [
    "It seems that the data poisoning injection overcomes the low-importance of the merchant ID M677738360 feature within the decision tree model after roughly 300 injections, and that the poisoning effect plateaus at an injection size of around 600, creating a fraud rate classification rate of approximately 75% within this merchant's transactions."
   ]
  },
  {
   "cell_type": "markdown",
   "metadata": {},
   "source": [
    "We'll use this minimal injection size of $n=600$ to further analyze this attack's effectiveness and detectability."
   ]
  },
  {
   "cell_type": "code",
   "execution_count": 30,
   "metadata": {},
   "outputs": [
    {
     "name": "stdout",
     "output_type": "stream",
     "text": [
      "Size of injection: 600\n"
     ]
    }
   ],
   "source": [
    "# injection step\n",
    "m_67773_injection_big = m_67773_injection.copy()\n",
    "\n",
    "for i in range(2):\n",
    "    m_67773_injection_big = pd.concat([m_67773_injection_big.copy(), m_67773_injection.copy()], axis=0)\n",
    "\n",
    "print(f\"Size of injection: {len(m_67773_injection_big)}\")"
   ]
  },
  {
   "cell_type": "code",
   "execution_count": 31,
   "metadata": {},
   "outputs": [
    {
     "name": "stdout",
     "output_type": "stream",
     "text": [
      "Number of instances with merchant ID M677338360 in the training data: 849\n",
      "Fraud rate for this specific merchant within the training data: 70.67%\n"
     ]
    }
   ],
   "source": [
    "X_train_poison = pd.concat([X_train_poison, m_67773_injection_big], axis=0)\n",
    "\n",
    "m_67773_instances = X_train_poison[X_train_poison['merchant_\\'M677738360\\''] == 1.0]\n",
    "    \n",
    "print(f'Number of instances with merchant ID M677338360 in the training data: {len(m_67773_instances)}')\n",
    "print(f\"Fraud rate for this specific merchant within the training data: {m_67773_instances['fraud'].mean()*100:.2f}%\")"
   ]
  },
  {
   "attachments": {},
   "cell_type": "markdown",
   "metadata": {},
   "source": [
    "With the injection, the fraud rate of merchant M677738360 increased to 70.7%"
   ]
  },
  {
   "cell_type": "code",
   "execution_count": 32,
   "metadata": {},
   "outputs": [],
   "source": [
    "# splitting X and y for decision tree training\n",
    "y_train_poison = X_train_poison['fraud'].copy()\n",
    "cols = X_train_poison.columns\n",
    "cols = cols.drop(['fraud'])\n",
    "X_train_poison = X_train_poison[cols]"
   ]
  },
  {
   "attachments": {},
   "cell_type": "markdown",
   "metadata": {},
   "source": [
    "Preparing the data for training by splitting the into X and y data frames."
   ]
  },
  {
   "cell_type": "code",
   "execution_count": 33,
   "metadata": {},
   "outputs": [
    {
     "data": {
      "text/plain": [
       "array([0.99253406, 0.99290242, 0.98975963])"
      ]
     },
     "execution_count": 33,
     "metadata": {},
     "output_type": "execute_result"
    }
   ],
   "source": [
    "# fitting iterations of the decision tree\n",
    "tree_model_poison = DecisionTreeClassifier(random_state=0)\n",
    "tree_model_poison.fit(X_train_poison, y_train_poison)\n",
    "\n",
    "cross_val_score(tree_model_poison, X_train_poison, y_train_poison, cv = 3)"
   ]
  },
  {
   "cell_type": "code",
   "execution_count": 34,
   "metadata": {},
   "outputs": [
    {
     "name": "stdout",
     "output_type": "stream",
     "text": [
      "The poisoned model predicts that 75.23% of the testing data points with the Merchant ID M677738360 are fraudulent.\n",
      "The normal model predicts that 0.00% of the testing data points with the Merchant ID M677738360 are fraudulent.\n"
     ]
    }
   ],
   "source": [
    "m_67773_preds_poison = tree_model_poison.predict(X_test[X_test['merchant_\\'M677738360\\''] == 1.0])\n",
    "m_67773_preds_unpoisoned = tree_model.predict(X_test[X_test['merchant_\\'M677738360\\''] == 1.0])\n",
    "\n",
    "print(f'The poisoned model predicts that {m_67773_preds_poison.mean()*100:.2f}% of the testing data points with the Merchant ID M677738360 are fraudulent.')\n",
    "print(f'The normal model predicts that {m_67773_preds_unpoisoned.mean()*100:.2f}% of the testing data points with the Merchant ID M677738360 are fraudulent.')"
   ]
  },
  {
   "cell_type": "code",
   "execution_count": 35,
   "metadata": {},
   "outputs": [
    {
     "name": "stdout",
     "output_type": "stream",
     "text": [
      "True Positive Rate on Testing Data with Poisoned Model = 76.06%\n",
      "True Negative Rate on Testing Data with Poisoned Model = 99.66%\n"
     ]
    }
   ],
   "source": [
    "test_preds_poison = tree_model_poison.predict(X_test)\n",
    "\n",
    "tn, fp, fn, tp = confusion_matrix(y_true= y_test, y_pred= test_preds_poison).ravel()\n",
    "print(f'True Positive Rate on Testing Data with Poisoned Model = {tp/(tp+fn)*100:.2f}%')\n",
    "print(f'True Negative Rate on Testing Data with Poisoned Model = {tn/(tn+fp) * 100:.2f}%')"
   ]
  },
  {
   "cell_type": "code",
   "execution_count": 36,
   "metadata": {},
   "outputs": [
    {
     "name": "stdout",
     "output_type": "stream",
     "text": [
      "True Positive Rate on Test Data with Unpoisoned Model = 76.18%\n",
      "True Negative Rate on Test Data with Unpoisoned Model = 99.71%\n"
     ]
    }
   ],
   "source": [
    "print(tp_unpoisoned)\n",
    "print(tn_unpoisoned)"
   ]
  },
  {
   "cell_type": "markdown",
   "metadata": {},
   "source": [
    "As can be seen, the model trained upon the poisoned data set (the poisoned model) predicts that 75.23% of all instances of this specific merchant in the testing data are fraudulent, when the baseline (unpoisoned model) predicts an accurate 0% fraud rate. This dramatically increases the likelihood that this merchant will be flagged for fraud if they attempt to make any kind of transaction in the future. Looking at how the 600 point injection affects the total model accuracy, we can see that the true positive and true negative rates only fluctuate by 0.1% each, making our injection very difficult to detect when assessing the performance of the model as a whole."
   ]
  },
  {
   "attachments": {},
   "cell_type": "markdown",
   "metadata": {},
   "source": [
    "## Data Poisoning Test (Altering Transactions: Targeting Leisure and Health Categories)"
   ]
  },
  {
   "cell_type": "code",
   "execution_count": 37,
   "metadata": {},
   "outputs": [
    {
     "data": {
      "text/html": [
       "<div>\n",
       "<style scoped>\n",
       "    .dataframe tbody tr th:only-of-type {\n",
       "        vertical-align: middle;\n",
       "    }\n",
       "\n",
       "    .dataframe tbody tr th {\n",
       "        vertical-align: top;\n",
       "    }\n",
       "\n",
       "    .dataframe thead th {\n",
       "        text-align: right;\n",
       "    }\n",
       "</style>\n",
       "<table border=\"1\" class=\"dataframe\">\n",
       "  <thead>\n",
       "    <tr style=\"text-align: right;\">\n",
       "      <th></th>\n",
       "      <th>feature</th>\n",
       "      <th>importance</th>\n",
       "    </tr>\n",
       "  </thead>\n",
       "  <tbody>\n",
       "    <tr>\n",
       "      <th>0</th>\n",
       "      <td>amount</td>\n",
       "      <td>0.716596</td>\n",
       "    </tr>\n",
       "    <tr>\n",
       "      <th>62</th>\n",
       "      <td>merchant_'M980657600'</td>\n",
       "      <td>0.059733</td>\n",
       "    </tr>\n",
       "    <tr>\n",
       "      <th>13</th>\n",
       "      <td>merchant_'M1053599405'</td>\n",
       "      <td>0.025989</td>\n",
       "    </tr>\n",
       "    <tr>\n",
       "      <th>47</th>\n",
       "      <td>merchant_'M480139044'</td>\n",
       "      <td>0.021692</td>\n",
       "    </tr>\n",
       "    <tr>\n",
       "      <th>36</th>\n",
       "      <td>merchant_'M1913465890'</td>\n",
       "      <td>0.018560</td>\n",
       "    </tr>\n",
       "    <tr>\n",
       "      <th>71</th>\n",
       "      <td>category_'es_leisure'</td>\n",
       "      <td>0.018383</td>\n",
       "    </tr>\n",
       "    <tr>\n",
       "      <th>56</th>\n",
       "      <td>merchant_'M855959430'</td>\n",
       "      <td>0.010980</td>\n",
       "    </tr>\n",
       "    <tr>\n",
       "      <th>34</th>\n",
       "      <td>merchant_'M1873032707'</td>\n",
       "      <td>0.009916</td>\n",
       "    </tr>\n",
       "    <tr>\n",
       "      <th>3</th>\n",
       "      <td>age_'2'</td>\n",
       "      <td>0.008878</td>\n",
       "    </tr>\n",
       "    <tr>\n",
       "      <th>10</th>\n",
       "      <td>gender_'F'</td>\n",
       "      <td>0.007778</td>\n",
       "    </tr>\n",
       "  </tbody>\n",
       "</table>\n",
       "</div>"
      ],
      "text/plain": [
       "                   feature  importance\n",
       "0                   amount    0.716596\n",
       "62   merchant_'M980657600'    0.059733\n",
       "13  merchant_'M1053599405'    0.025989\n",
       "47   merchant_'M480139044'    0.021692\n",
       "36  merchant_'M1913465890'    0.018560\n",
       "71   category_'es_leisure'    0.018383\n",
       "56   merchant_'M855959430'    0.010980\n",
       "34  merchant_'M1873032707'    0.009916\n",
       "3                  age_'2'    0.008878\n",
       "10              gender_'F'    0.007778"
      ]
     },
     "execution_count": 37,
     "metadata": {},
     "output_type": "execute_result"
    }
   ],
   "source": [
    "imp.head(10)"
   ]
  },
  {
   "attachments": {},
   "cell_type": "markdown",
   "metadata": {},
   "source": [
    "The two first categories that have the greatest impact on our models decisions are leisure and health. To attack these two categories, we needed to understand how they affect the model. "
   ]
  },
  {
   "cell_type": "code",
   "execution_count": 38,
   "metadata": {},
   "outputs": [],
   "source": [
    "X_train_poison = X_train.copy()\n",
    "X_train_poison['fraud'] = y_train.copy()"
   ]
  },
  {
   "cell_type": "code",
   "execution_count": 39,
   "metadata": {},
   "outputs": [
    {
     "name": "stdout",
     "output_type": "stream",
     "text": [
      "Unpoisoned leisure category fraud rate: 94.50%\n"
     ]
    }
   ],
   "source": [
    "X_leisure = X_train_poison.loc[X_train_poison[\"category_\\'es_leisure\\'\"] == 1.0]\n",
    "print(f\"Unpoisoned leisure category fraud rate: {X_leisure['fraud'].mean()*100:.2f}%\")"
   ]
  },
  {
   "attachments": {},
   "cell_type": "markdown",
   "metadata": {},
   "source": [
    "The leisure category had a 94% fraud rate, and therefore likely influences the model positively to predict fraud, when a data point contains the leisure category. "
   ]
  },
  {
   "cell_type": "code",
   "execution_count": 40,
   "metadata": {},
   "outputs": [
    {
     "name": "stdout",
     "output_type": "stream",
     "text": [
      "Unpoisoned health category fraud rate: 10.34%\n"
     ]
    }
   ],
   "source": [
    "X_health = X_train_poison.loc[X_train_poison[\"category_\\'es_health\\'\"] == 1.0]\n",
    "print(f\"Unpoisoned health category fraud rate: {X_health['fraud'].mean()*100:.2f}%\")"
   ]
  },
  {
   "attachments": {},
   "cell_type": "markdown",
   "metadata": {},
   "source": [
    "In comparison, the health category had a 10% fraud rate, and therefore likely influences the model to not predict fraud given the health category. "
   ]
  },
  {
   "cell_type": "markdown",
   "metadata": {},
   "source": [
    "Our aim for this data poisoning attack is to render these two very features that are very important to the decision tree model unuseable. To do this, we will try to alter their fraud rates to around 50% each, so that the use of these features in a decision process is no better than flipping a coin."
   ]
  },
  {
   "cell_type": "markdown",
   "metadata": {},
   "source": [
    "## Altering 1,000 data points"
   ]
  },
  {
   "cell_type": "markdown",
   "metadata": {},
   "source": [
    "We will begin by altering 1,000 data points in the model training data, which is a slightly different method of attack than our last attack. Here, we are altering the data points to poison them, while in the last attack, we were appending the poisoned rows, hoping to overcome the unpoisoned rows."
   ]
  },
  {
   "cell_type": "code",
   "execution_count": 41,
   "metadata": {},
   "outputs": [],
   "source": [
    "X_train_poison1 = X_train_poison.copy()\n",
    "\n",
    "leisure_idxs1 = X_train_poison1[X_train_poison1['category_\\'es_leisure\\''] == 1.0].index\n",
    "health_idxs1  = X_train_poison1[X_train_poison1['category_\\'es_health\\''] == 1.0].index\n",
    "\n",
    "for i in range(1000):\n",
    "    if i%10 == 0:\n",
    "        X_train_poison1.at[leisure_idxs1[int(i/10)], 'fraud'] = 0\n",
    "    else: \n",
    "        X_train_poison1.at[health_idxs1[i], 'fraud'] = 1"
   ]
  },
  {
   "cell_type": "markdown",
   "metadata": {},
   "source": [
    "We alter only 100 points in leisure and 900 points in health because there are only 324 points in leisure, but tens of thousands of data points with the health category."
   ]
  },
  {
   "cell_type": "code",
   "execution_count": 42,
   "metadata": {},
   "outputs": [
    {
     "name": "stdout",
     "output_type": "stream",
     "text": [
      "Poisoned leisure category fraud rate: 66.36%\n"
     ]
    }
   ],
   "source": [
    "X_leisure_poison = X_train_poison1.loc[X_train_poison1['category_\\'es_leisure\\''] == 1.0]\n",
    "print(f\"Poisoned leisure category fraud rate: {X_leisure_poison['fraud'].mean()*100:.2f}%\")"
   ]
  },
  {
   "attachments": {},
   "cell_type": "markdown",
   "metadata": {},
   "source": [
    "The alteration decreased the leisure category's fraud rate from 94% to 66%."
   ]
  },
  {
   "cell_type": "code",
   "execution_count": 43,
   "metadata": {},
   "outputs": [
    {
     "name": "stdout",
     "output_type": "stream",
     "text": [
      "Poisoned health category fraud rate: 17.74%\n"
     ]
    }
   ],
   "source": [
    "X_health_poison = X_train_poison1.loc[X_train_poison1['category_\\'es_health\\''] == 1.0]\n",
    "print(f\"Poisoned health category fraud rate: {X_health_poison['fraud'].mean()*100:.2f}%\")"
   ]
  },
  {
   "attachments": {},
   "cell_type": "markdown",
   "metadata": {},
   "source": [
    "The alteration increased the health category's fraud rate from 10% to 18%."
   ]
  },
  {
   "attachments": {},
   "cell_type": "markdown",
   "metadata": {},
   "source": [
    "## Altering 5,000 data points"
   ]
  },
  {
   "cell_type": "markdown",
   "metadata": {},
   "source": [
    "We then experiment with altering far more data points within the health category, as it is far larger than the leisure category. We alter 5,000 rows in total to poison them."
   ]
  },
  {
   "cell_type": "code",
   "execution_count": 44,
   "metadata": {},
   "outputs": [],
   "source": [
    "X_train_poison2 = X_train_poison.copy()\n",
    "\n",
    "leisure_idxs2 = X_train_poison2[X_train_poison2['category_\\'es_leisure\\''] == 1.0].index\n",
    "health_idxs2  = X_train_poison2[X_train_poison2['category_\\'es_health\\''] == 1.0].index\n",
    "\n",
    "for i in range(5000):\n",
    "    if i%50 == 0:\n",
    "        X_train_poison2.at[leisure_idxs2[int(i/50)], 'fraud'] = 0\n",
    "    else: \n",
    "        X_train_poison2.at[health_idxs2[i], 'fraud'] = 1"
   ]
  },
  {
   "cell_type": "markdown",
   "metadata": {},
   "source": [
    "For this reason, we still alter only 100 points in leisure and alter 4900 points in health."
   ]
  },
  {
   "cell_type": "code",
   "execution_count": 45,
   "metadata": {},
   "outputs": [
    {
     "name": "stdout",
     "output_type": "stream",
     "text": [
      "Poisoned leisure category fraud rate: 66.36%\n"
     ]
    }
   ],
   "source": [
    "X_leisure_poison2 = X_train_poison2.loc[X_train_poison2['category_\\'es_leisure\\''] == 1.0]\n",
    "print(f\"Poisoned leisure category fraud rate: {X_leisure_poison2['fraud'].mean()*100:.2f}%\")"
   ]
  },
  {
   "attachments": {},
   "cell_type": "markdown",
   "metadata": {},
   "source": [
    "The alteration still decreases the leisure category's fraud rate from 94% to 66%."
   ]
  },
  {
   "cell_type": "code",
   "execution_count": 46,
   "metadata": {},
   "outputs": [
    {
     "name": "stdout",
     "output_type": "stream",
     "text": [
      "Poisoned health category fraud rate: 50.46%\n"
     ]
    }
   ],
   "source": [
    "X_health_poison2 = X_train_poison2.loc[X_train_poison2['category_\\'es_health\\''] == 1.0]\n",
    "print(f\"Poisoned health category fraud rate: {X_health_poison2['fraud'].mean()*100:.2f}%\")"
   ]
  },
  {
   "attachments": {},
   "cell_type": "markdown",
   "metadata": {},
   "source": [
    "Now, the alteration increased the health category's fraud rate from 10% to 50%."
   ]
  },
  {
   "cell_type": "markdown",
   "metadata": {},
   "source": [
    "This second data poisoning attack has brought both categories' fraud rates to around 50%. We will use this attack to evaluate its effect on the model's ability to predict data points with these features in the testing data."
   ]
  },
  {
   "cell_type": "code",
   "execution_count": 47,
   "metadata": {},
   "outputs": [],
   "source": [
    "X_train_poison = X_train_poison2.copy()\n",
    "\n",
    "y_train_poison = X_train_poison['fraud']\n",
    "cols = X_train_poison.columns\n",
    "cols = cols.drop(['fraud'])\n",
    "X_train_poison = X_train_poison[cols]"
   ]
  },
  {
   "cell_type": "code",
   "execution_count": 48,
   "metadata": {},
   "outputs": [
    {
     "data": {
      "text/html": [
       "<style>#sk-container-id-2 {color: black;background-color: white;}#sk-container-id-2 pre{padding: 0;}#sk-container-id-2 div.sk-toggleable {background-color: white;}#sk-container-id-2 label.sk-toggleable__label {cursor: pointer;display: block;width: 100%;margin-bottom: 0;padding: 0.3em;box-sizing: border-box;text-align: center;}#sk-container-id-2 label.sk-toggleable__label-arrow:before {content: \"▸\";float: left;margin-right: 0.25em;color: #696969;}#sk-container-id-2 label.sk-toggleable__label-arrow:hover:before {color: black;}#sk-container-id-2 div.sk-estimator:hover label.sk-toggleable__label-arrow:before {color: black;}#sk-container-id-2 div.sk-toggleable__content {max-height: 0;max-width: 0;overflow: hidden;text-align: left;background-color: #f0f8ff;}#sk-container-id-2 div.sk-toggleable__content pre {margin: 0.2em;color: black;border-radius: 0.25em;background-color: #f0f8ff;}#sk-container-id-2 input.sk-toggleable__control:checked~div.sk-toggleable__content {max-height: 200px;max-width: 100%;overflow: auto;}#sk-container-id-2 input.sk-toggleable__control:checked~label.sk-toggleable__label-arrow:before {content: \"▾\";}#sk-container-id-2 div.sk-estimator input.sk-toggleable__control:checked~label.sk-toggleable__label {background-color: #d4ebff;}#sk-container-id-2 div.sk-label input.sk-toggleable__control:checked~label.sk-toggleable__label {background-color: #d4ebff;}#sk-container-id-2 input.sk-hidden--visually {border: 0;clip: rect(1px 1px 1px 1px);clip: rect(1px, 1px, 1px, 1px);height: 1px;margin: -1px;overflow: hidden;padding: 0;position: absolute;width: 1px;}#sk-container-id-2 div.sk-estimator {font-family: monospace;background-color: #f0f8ff;border: 1px dotted black;border-radius: 0.25em;box-sizing: border-box;margin-bottom: 0.5em;}#sk-container-id-2 div.sk-estimator:hover {background-color: #d4ebff;}#sk-container-id-2 div.sk-parallel-item::after {content: \"\";width: 100%;border-bottom: 1px solid gray;flex-grow: 1;}#sk-container-id-2 div.sk-label:hover label.sk-toggleable__label {background-color: #d4ebff;}#sk-container-id-2 div.sk-serial::before {content: \"\";position: absolute;border-left: 1px solid gray;box-sizing: border-box;top: 0;bottom: 0;left: 50%;z-index: 0;}#sk-container-id-2 div.sk-serial {display: flex;flex-direction: column;align-items: center;background-color: white;padding-right: 0.2em;padding-left: 0.2em;position: relative;}#sk-container-id-2 div.sk-item {position: relative;z-index: 1;}#sk-container-id-2 div.sk-parallel {display: flex;align-items: stretch;justify-content: center;background-color: white;position: relative;}#sk-container-id-2 div.sk-item::before, #sk-container-id-2 div.sk-parallel-item::before {content: \"\";position: absolute;border-left: 1px solid gray;box-sizing: border-box;top: 0;bottom: 0;left: 50%;z-index: -1;}#sk-container-id-2 div.sk-parallel-item {display: flex;flex-direction: column;z-index: 1;position: relative;background-color: white;}#sk-container-id-2 div.sk-parallel-item:first-child::after {align-self: flex-end;width: 50%;}#sk-container-id-2 div.sk-parallel-item:last-child::after {align-self: flex-start;width: 50%;}#sk-container-id-2 div.sk-parallel-item:only-child::after {width: 0;}#sk-container-id-2 div.sk-dashed-wrapped {border: 1px dashed gray;margin: 0 0.4em 0.5em 0.4em;box-sizing: border-box;padding-bottom: 0.4em;background-color: white;}#sk-container-id-2 div.sk-label label {font-family: monospace;font-weight: bold;display: inline-block;line-height: 1.2em;}#sk-container-id-2 div.sk-label-container {text-align: center;}#sk-container-id-2 div.sk-container {/* jupyter's `normalize.less` sets `[hidden] { display: none; }` but bootstrap.min.css set `[hidden] { display: none !important; }` so we also need the `!important` here to be able to override the default hidden behavior on the sphinx rendered scikit-learn.org. See: https://github.com/scikit-learn/scikit-learn/issues/21755 */display: inline-block !important;position: relative;}#sk-container-id-2 div.sk-text-repr-fallback {display: none;}</style><div id=\"sk-container-id-2\" class=\"sk-top-container\"><div class=\"sk-text-repr-fallback\"><pre>DecisionTreeClassifier(random_state=0)</pre><b>In a Jupyter environment, please rerun this cell to show the HTML representation or trust the notebook. <br />On GitHub, the HTML representation is unable to render, please try loading this page with nbviewer.org.</b></div><div class=\"sk-container\" hidden><div class=\"sk-item\"><div class=\"sk-estimator sk-toggleable\"><input class=\"sk-toggleable__control sk-hidden--visually\" id=\"sk-estimator-id-2\" type=\"checkbox\" checked><label for=\"sk-estimator-id-2\" class=\"sk-toggleable__label sk-toggleable__label-arrow\">DecisionTreeClassifier</label><div class=\"sk-toggleable__content\"><pre>DecisionTreeClassifier(random_state=0)</pre></div></div></div></div></div>"
      ],
      "text/plain": [
       "DecisionTreeClassifier(random_state=0)"
      ]
     },
     "execution_count": 48,
     "metadata": {},
     "output_type": "execute_result"
    }
   ],
   "source": [
    "tree_model_poison = DecisionTreeClassifier(random_state=0)\n",
    "tree_model_poison.fit(X_train_poison, y_train_poison)"
   ]
  },
  {
   "cell_type": "code",
   "execution_count": 49,
   "metadata": {},
   "outputs": [
    {
     "data": {
      "text/plain": [
       "array([0.98485738, 0.9807911 , 0.97600205])"
      ]
     },
     "execution_count": 49,
     "metadata": {},
     "output_type": "execute_result"
    }
   ],
   "source": [
    "cross_val_score(tree_model_poison, X_train_poison, y_train_poison, cv = 3)"
   ]
  },
  {
   "cell_type": "markdown",
   "metadata": {},
   "source": [
    "Evaluating overall accuracy of the poisoned decision tree model on its predictions for the leisure and health categories in the testing data."
   ]
  },
  {
   "cell_type": "code",
   "execution_count": 50,
   "metadata": {},
   "outputs": [
    {
     "name": "stdout",
     "output_type": "stream",
     "text": [
      "The poisoned model predicts that 63.95% of the testing data points within the leisure category are fraudulent.\n",
      "The normal model predicts that 95.35% of the testing data points within the leisure category are fraudulent.\n"
     ]
    }
   ],
   "source": [
    "leisure_preds_poison = tree_model_poison.predict(X_test[X_test['category_\\'es_leisure\\''] == 1.0])\n",
    "leisure_preds_unpoisoned = tree_model.predict(X_test[X_test['category_\\'es_leisure\\''] == 1.0])\n",
    "\n",
    "print(f'The poisoned model predicts that {leisure_preds_poison.mean()*100:.2f}% of the testing data points within the leisure category are fraudulent.')\n",
    "print(f'The normal model predicts that {leisure_preds_unpoisoned.mean()*100:.2f}% of the testing data points within the leisure category are fraudulent.')"
   ]
  },
  {
   "cell_type": "code",
   "execution_count": 51,
   "metadata": {},
   "outputs": [
    {
     "name": "stdout",
     "output_type": "stream",
     "text": [
      "The poisoned model predicts that 50.14% of the testing data points within the health category are fraudulent.\n",
      "The normal model predicts that 10.92% of the testing data points within the health category are fraudulent.\n"
     ]
    }
   ],
   "source": [
    "health_preds_poison = tree_model_poison.predict(X_test[X_test['category_\\'es_health\\''] == 1.0])\n",
    "health_preds_unpoisoned = tree_model.predict(X_test[X_test['category_\\'es_health\\''] == 1.0])\n",
    "\n",
    "print(f'The poisoned model predicts that {health_preds_poison.mean()*100:.2f}% of the testing data points within the health category are fraudulent.')\n",
    "print(f'The normal model predicts that {health_preds_unpoisoned.mean()*100:.2f}% of the testing data points within the health category are fraudulent.')"
   ]
  },
  {
   "cell_type": "markdown",
   "metadata": {},
   "source": [
    "However, did our injection affect the overall testing accuracy of the model?"
   ]
  },
  {
   "cell_type": "code",
   "execution_count": 52,
   "metadata": {},
   "outputs": [
    {
     "name": "stdout",
     "output_type": "stream",
     "text": [
      "True Positive Rate on Testing Data with Poisoned Model = 76.26%\n",
      "True Negative Rate on Testing Data with Poisoned Model = 98.68%\n"
     ]
    }
   ],
   "source": [
    "from sklearn.metrics import confusion_matrix\n",
    "\n",
    "test_preds_poison = tree_model_poison.predict(X_test)\n",
    "\n",
    "tn, fp, fn, tp = confusion_matrix(y_true= y_test, y_pred= test_preds_poison).ravel()\n",
    "print(f'True Positive Rate on Testing Data with Poisoned Model = {tp/(tp+fn)*100:.2f}%')\n",
    "print(f'True Negative Rate on Testing Data with Poisoned Model = {tn/(tn+fp) * 100:.2f}%')"
   ]
  },
  {
   "cell_type": "markdown",
   "metadata": {},
   "source": [
    "Comparing them with our unpoisoned model's evalution:"
   ]
  },
  {
   "cell_type": "code",
   "execution_count": 53,
   "metadata": {},
   "outputs": [
    {
     "name": "stdout",
     "output_type": "stream",
     "text": [
      "True Positive Rate on Test Data with Unpoisoned Model = 76.18%\n",
      "True Negative Rate on Test Data with Unpoisoned Model = 99.71%\n"
     ]
    }
   ],
   "source": [
    "print(tp_unpoisoned)\n",
    "print(tn_unpoisoned)"
   ]
  },
  {
   "attachments": {},
   "cell_type": "markdown",
   "metadata": {},
   "source": [
    "As seen in the true positive and negative rates of the poisoned and not poisoned models, the accuracy fluctuated by around 0.1% in the true positive rate and around 1% in the true negative rate. Since this data poisoning attack does not drastically compromise the overall accuracy of the model, it is relatively undetectable when assessing the performance of the model on the overall representation of data. However, the attack greatly impacts the ability for the decision tree model to accurately predict fraud in transactions in the leisure and health categories."
   ]
  },
  {
   "cell_type": "markdown",
   "metadata": {},
   "source": [
    "# Results \n",
    "\n",
    "We implemented a decision tree model that produced a true positive rate (predicting fraudulent transactions) of 76.2% accuracy in the testing data and a true negative rate (predicting non-fraudulent transactions) of 99.7% accuracy in the testing data. We then constructed a targeted data poisoning attack on merchant M677738360, which consisted of a 600 point injection. Before poisoning, the decision tree model had a **0% positive fraud rate** prediction on merchant M677738360.\n",
    " \n",
    "After the targeted attack, the model predicted that **75.23% of merchant M677738360’s transactions were fraudulent**, dramatically increasing the likelihood that this specific merchant will be flagged for fraud by the detection model if they attempt to make any transaction in the future. Further, this injection had very little impact on the overall accuracy of the model. The baseline model (trained on the true dataset without data poisoning) still had true positive and negative rates of 76.2% and 99.7%, respectively. In comparison, the poisoned model had true positive and negative rates of 76.1% and 99.7%, respectively. This difference of only 0.1% in the true positive rate leads us to believe that our attack would be relatively undetectable when evaluating the poisoned model’s performance on a representative sample of the dataset.\n",
    "\n",
    "In an attempt to poison our model by altering transactions in the leisure and health categories, we conducted alterations to determine the extent in which we could corrupt our model. The **leisure category had a fraud rate of 94.5%** and the **health category had a fraud rate of 10.3%**. Our attack intended to change both of these fraud rates to around 50%, so that these features of the data would not be useful to the fraud detection model. We experimented by altering a set of 1,000 data points and a set of 5,000 data points. The test that altered 5,000 points in the leisure and health categories resulted in a fraud prediction rate decrease from **94.5% to 66.3% in the leisure category** and an increase from **10.3% to 50.4% in the health category**. \n",
    "\n",
    "In comparing these models across these categories, the **baseline model predicted fraud in 95%** of the testing data in the **leisure category**, while the **poisoned model only predicted fraud in 63%** of the testing data in the **leisure category**. For the health category, the **baseline model predicted fraud in 11% of the testing data labeled as health**, while the **poisoned model predicted fraud in 50%** of the testing data in the **health category**. Further, this 5,000 point altercation did not drastically impact the overall accuracy of the model. The baseline model had true positive and negative rates of 76.2% and 99.7%, respectively. In comparison, the poisoned model had true positive and negative rates of 76.3% and 98.7%, respectively. Again, this leads us to believe that our attack would be relatively undetectable when evaluating the poisoned model’s performance on a representative sample of the dataset.\n"
   ]
  },
  {
   "cell_type": "markdown",
   "metadata": {},
   "source": [
    "# Conclusion\n",
    "We were able to implement a decision tree model that accurately predicted fraudulent credit card transactions. Using this model, we constructed two successful data poisoning attacks, both targeting specific features and disabling the models’ functionality within certain categories. In both of these attacks, our data injections did not affect the overall accuracy of the fraud detection model, which we believe makes our attacks virtually undetectable. Therefore, our initial goals of creating an accurate model and poisoning the model were met. However, given the scale and power of the data poisoning attacks we researched, we produced a far more elementary and detectable attack than we were envisioning at the start of the project. After studying techniques used by tools like Glaze and Nightshade, we created expectations that our attacks would not only be difficult to detect, but also fully cripple our models. Given the simplicity of our dataset, we were limited to only a few targets and techniques for poisoning, which made our expectations far harder to reach. With more time, we could have experimented on a larger scale with other data types, potentially attempting attacks akin to Glaze or Nightshade, and more interesting attacks on models that train using computer vision. However, considering our time constraints and lack of expertise, we managed to achieve our goals efficiently and effectively.\n"
   ]
  },
  {
   "cell_type": "markdown",
   "metadata": {},
   "source": [
    "# Group Contributions Statement\n",
    "\n",
    "Tristan worked on the visualizations and aggregate charts for the data set. Oscar implemented and tested the decision tree model. We worked together on both data poisoning attacks, but Oscar predominantly worked on the merchant attack and Tristan worked on the category attack. Tristan wrote the abstract, results, and concluding sections of the blog post and Oscar wrote the introduction, values statement, materials and methods, and bibliography sections. We believe that we had a very comparable work distribution."
   ]
  },
  {
   "attachments": {},
   "cell_type": "markdown",
   "metadata": {},
   "source": [
    "## Personal Reflections\n",
    "\n",
    "The process of researching and implementing our data poisoning project taught me the basics of data poisoning attacks. The implementation of the decision tree model was great practice in data preparation and using sklearn models. The project helped me dig deeper into the drivers of the model and how they impact the predictions. The targeted data poisoning attack also helped me better understand the inner workings of the decision tree model. This attack was great practice in modifying pandas dataframes, as well. The broader disabling attack was also helpful pandas practice and was important to my understanding of the importance of different features affecting the decision tree model. \n",
    "\n",
    "I believe we exceeded our initial goals for the project. We implemented a successful and accurate model to predict fraudulent transactions. We also implemented two successful data poisoning attacks that targeted different features of the dataset and with different motivations for each. Therefore, I think in every aspect we exceeded our expectations. \n",
    "\n",
    "This project was great practice in compiling a successful project from start to finish. I think the collaborative workflow was a key skill that I developed in this project that I will take to future experiences later in life. Oscar and I learned to work with each other on different areas of the project so that we efficiently achieved all of our starting goals. \n"
   ]
  },
  {
   "cell_type": "markdown",
   "metadata": {},
   "source": [
    "# References\n"
   ]
  }
 ],
 "metadata": {
  "kernelspec": {
   "display_name": "ml-0451",
   "language": "python",
   "name": "python3"
  },
  "language_info": {
   "codemirror_mode": {
    "name": "ipython",
    "version": 3
   },
   "file_extension": ".py",
   "mimetype": "text/x-python",
   "name": "python",
   "nbconvert_exporter": "python",
   "pygments_lexer": "ipython3",
   "version": "3.9.18"
  },
  "orig_nbformat": 4
 },
 "nbformat": 4,
 "nbformat_minor": 2
}
