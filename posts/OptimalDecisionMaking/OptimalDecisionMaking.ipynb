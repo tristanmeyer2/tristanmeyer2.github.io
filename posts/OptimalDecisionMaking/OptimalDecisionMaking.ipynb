{
 "cells": [
  {
   "attachments": {},
   "cell_type": "raw",
   "metadata": {},
   "source": [
    "---\n",
    "title: 'Optimal' Decision Making\n",
    "author: Tristan Meyer\n",
    "date: '2024-03-21'\n",
    "image: \"image.jpg\"\n",
    "description: \"Building a model to maximize gain for a bank given past loan data\"\n",
    "format: html\n",
    "---"
   ]
  },
  {
   "attachments": {},
   "cell_type": "markdown",
   "metadata": {},
   "source": [
    "## Abstract:"
   ]
  },
  {
   "attachments": {},
   "cell_type": "markdown",
   "metadata": {},
   "source": [
    "The aim of this post was to create a model to maximize the gain on loans for a bank. This post demonstrates my ability to create visualizations in seaborn, choose featuers for my model, threshold my model, and analyze my model from the point of view of both the loaner and the borrower. \n",
    "My model uses the person's home ownership status, the percent of their income that the loan is, and the length of their most recent employment to predict whether or not the borrower defaulted on the loan. My model performs at 85 percent accuracy in the test data. I used a brute force tactic to choose these three features: iterating through every combination of features and fitting a logistic regression to each combination. I compared the mean cross validation scores for each combination and chose the three features with the highest score. \n",
    "I found the threshold that maximized gain for the bank by testing a wide range of values. I calculated the gain based on profit maximization by calculating the cost of a false negative and the gain of a true negative. I found that a threshold value of 1.086 maximized the banks profit with an average gain of 333 in the training data and 389 in the testing data."
   ]
  },
  {
   "attachments": {},
   "cell_type": "markdown",
   "metadata": {},
   "source": [
    "## Part A: Grab the Data"
   ]
  },
  {
   "cell_type": "code",
   "execution_count": 337,
   "metadata": {},
   "outputs": [
    {
     "data": {
      "text/html": [
       "<div>\n",
       "<style scoped>\n",
       "    .dataframe tbody tr th:only-of-type {\n",
       "        vertical-align: middle;\n",
       "    }\n",
       "\n",
       "    .dataframe tbody tr th {\n",
       "        vertical-align: top;\n",
       "    }\n",
       "\n",
       "    .dataframe thead th {\n",
       "        text-align: right;\n",
       "    }\n",
       "</style>\n",
       "<table border=\"1\" class=\"dataframe\">\n",
       "  <thead>\n",
       "    <tr style=\"text-align: right;\">\n",
       "      <th></th>\n",
       "      <th>person_age</th>\n",
       "      <th>person_income</th>\n",
       "      <th>person_home_ownership</th>\n",
       "      <th>person_emp_length</th>\n",
       "      <th>loan_intent</th>\n",
       "      <th>loan_grade</th>\n",
       "      <th>loan_amnt</th>\n",
       "      <th>loan_int_rate</th>\n",
       "      <th>loan_status</th>\n",
       "      <th>loan_percent_income</th>\n",
       "      <th>cb_person_default_on_file</th>\n",
       "      <th>cb_person_cred_hist_length</th>\n",
       "    </tr>\n",
       "  </thead>\n",
       "  <tbody>\n",
       "    <tr>\n",
       "      <th>0</th>\n",
       "      <td>25</td>\n",
       "      <td>43200</td>\n",
       "      <td>RENT</td>\n",
       "      <td>NaN</td>\n",
       "      <td>VENTURE</td>\n",
       "      <td>B</td>\n",
       "      <td>1200</td>\n",
       "      <td>9.91</td>\n",
       "      <td>0</td>\n",
       "      <td>0.03</td>\n",
       "      <td>N</td>\n",
       "      <td>4</td>\n",
       "    </tr>\n",
       "    <tr>\n",
       "      <th>1</th>\n",
       "      <td>27</td>\n",
       "      <td>98000</td>\n",
       "      <td>RENT</td>\n",
       "      <td>3.0</td>\n",
       "      <td>EDUCATION</td>\n",
       "      <td>C</td>\n",
       "      <td>11750</td>\n",
       "      <td>13.47</td>\n",
       "      <td>0</td>\n",
       "      <td>0.12</td>\n",
       "      <td>Y</td>\n",
       "      <td>6</td>\n",
       "    </tr>\n",
       "    <tr>\n",
       "      <th>2</th>\n",
       "      <td>22</td>\n",
       "      <td>36996</td>\n",
       "      <td>RENT</td>\n",
       "      <td>5.0</td>\n",
       "      <td>EDUCATION</td>\n",
       "      <td>A</td>\n",
       "      <td>10000</td>\n",
       "      <td>7.51</td>\n",
       "      <td>0</td>\n",
       "      <td>0.27</td>\n",
       "      <td>N</td>\n",
       "      <td>4</td>\n",
       "    </tr>\n",
       "    <tr>\n",
       "      <th>3</th>\n",
       "      <td>24</td>\n",
       "      <td>26000</td>\n",
       "      <td>RENT</td>\n",
       "      <td>2.0</td>\n",
       "      <td>MEDICAL</td>\n",
       "      <td>C</td>\n",
       "      <td>1325</td>\n",
       "      <td>12.87</td>\n",
       "      <td>1</td>\n",
       "      <td>0.05</td>\n",
       "      <td>N</td>\n",
       "      <td>4</td>\n",
       "    </tr>\n",
       "    <tr>\n",
       "      <th>4</th>\n",
       "      <td>29</td>\n",
       "      <td>53004</td>\n",
       "      <td>MORTGAGE</td>\n",
       "      <td>2.0</td>\n",
       "      <td>HOMEIMPROVEMENT</td>\n",
       "      <td>A</td>\n",
       "      <td>15000</td>\n",
       "      <td>9.63</td>\n",
       "      <td>0</td>\n",
       "      <td>0.28</td>\n",
       "      <td>N</td>\n",
       "      <td>10</td>\n",
       "    </tr>\n",
       "    <tr>\n",
       "      <th>...</th>\n",
       "      <td>...</td>\n",
       "      <td>...</td>\n",
       "      <td>...</td>\n",
       "      <td>...</td>\n",
       "      <td>...</td>\n",
       "      <td>...</td>\n",
       "      <td>...</td>\n",
       "      <td>...</td>\n",
       "      <td>...</td>\n",
       "      <td>...</td>\n",
       "      <td>...</td>\n",
       "      <td>...</td>\n",
       "    </tr>\n",
       "    <tr>\n",
       "      <th>26059</th>\n",
       "      <td>36</td>\n",
       "      <td>150000</td>\n",
       "      <td>MORTGAGE</td>\n",
       "      <td>8.0</td>\n",
       "      <td>EDUCATION</td>\n",
       "      <td>A</td>\n",
       "      <td>3000</td>\n",
       "      <td>7.29</td>\n",
       "      <td>0</td>\n",
       "      <td>0.02</td>\n",
       "      <td>N</td>\n",
       "      <td>17</td>\n",
       "    </tr>\n",
       "    <tr>\n",
       "      <th>26060</th>\n",
       "      <td>23</td>\n",
       "      <td>48000</td>\n",
       "      <td>RENT</td>\n",
       "      <td>1.0</td>\n",
       "      <td>VENTURE</td>\n",
       "      <td>A</td>\n",
       "      <td>4325</td>\n",
       "      <td>5.42</td>\n",
       "      <td>0</td>\n",
       "      <td>0.09</td>\n",
       "      <td>N</td>\n",
       "      <td>4</td>\n",
       "    </tr>\n",
       "    <tr>\n",
       "      <th>26061</th>\n",
       "      <td>22</td>\n",
       "      <td>60000</td>\n",
       "      <td>RENT</td>\n",
       "      <td>0.0</td>\n",
       "      <td>MEDICAL</td>\n",
       "      <td>B</td>\n",
       "      <td>15000</td>\n",
       "      <td>11.71</td>\n",
       "      <td>0</td>\n",
       "      <td>0.25</td>\n",
       "      <td>N</td>\n",
       "      <td>4</td>\n",
       "    </tr>\n",
       "    <tr>\n",
       "      <th>26062</th>\n",
       "      <td>30</td>\n",
       "      <td>144000</td>\n",
       "      <td>MORTGAGE</td>\n",
       "      <td>12.0</td>\n",
       "      <td>PERSONAL</td>\n",
       "      <td>C</td>\n",
       "      <td>35000</td>\n",
       "      <td>12.68</td>\n",
       "      <td>0</td>\n",
       "      <td>0.24</td>\n",
       "      <td>N</td>\n",
       "      <td>8</td>\n",
       "    </tr>\n",
       "    <tr>\n",
       "      <th>26063</th>\n",
       "      <td>25</td>\n",
       "      <td>60000</td>\n",
       "      <td>RENT</td>\n",
       "      <td>5.0</td>\n",
       "      <td>EDUCATION</td>\n",
       "      <td>A</td>\n",
       "      <td>21450</td>\n",
       "      <td>7.29</td>\n",
       "      <td>1</td>\n",
       "      <td>0.36</td>\n",
       "      <td>N</td>\n",
       "      <td>4</td>\n",
       "    </tr>\n",
       "  </tbody>\n",
       "</table>\n",
       "<p>26064 rows × 12 columns</p>\n",
       "</div>"
      ],
      "text/plain": [
       "       person_age  person_income person_home_ownership  person_emp_length  \\\n",
       "0              25          43200                  RENT                NaN   \n",
       "1              27          98000                  RENT                3.0   \n",
       "2              22          36996                  RENT                5.0   \n",
       "3              24          26000                  RENT                2.0   \n",
       "4              29          53004              MORTGAGE                2.0   \n",
       "...           ...            ...                   ...                ...   \n",
       "26059          36         150000              MORTGAGE                8.0   \n",
       "26060          23          48000                  RENT                1.0   \n",
       "26061          22          60000                  RENT                0.0   \n",
       "26062          30         144000              MORTGAGE               12.0   \n",
       "26063          25          60000                  RENT                5.0   \n",
       "\n",
       "           loan_intent loan_grade  loan_amnt  loan_int_rate  loan_status  \\\n",
       "0              VENTURE          B       1200           9.91            0   \n",
       "1            EDUCATION          C      11750          13.47            0   \n",
       "2            EDUCATION          A      10000           7.51            0   \n",
       "3              MEDICAL          C       1325          12.87            1   \n",
       "4      HOMEIMPROVEMENT          A      15000           9.63            0   \n",
       "...                ...        ...        ...            ...          ...   \n",
       "26059        EDUCATION          A       3000           7.29            0   \n",
       "26060          VENTURE          A       4325           5.42            0   \n",
       "26061          MEDICAL          B      15000          11.71            0   \n",
       "26062         PERSONAL          C      35000          12.68            0   \n",
       "26063        EDUCATION          A      21450           7.29            1   \n",
       "\n",
       "       loan_percent_income cb_person_default_on_file  \\\n",
       "0                     0.03                         N   \n",
       "1                     0.12                         Y   \n",
       "2                     0.27                         N   \n",
       "3                     0.05                         N   \n",
       "4                     0.28                         N   \n",
       "...                    ...                       ...   \n",
       "26059                 0.02                         N   \n",
       "26060                 0.09                         N   \n",
       "26061                 0.25                         N   \n",
       "26062                 0.24                         N   \n",
       "26063                 0.36                         N   \n",
       "\n",
       "       cb_person_cred_hist_length  \n",
       "0                               4  \n",
       "1                               6  \n",
       "2                               4  \n",
       "3                               4  \n",
       "4                              10  \n",
       "...                           ...  \n",
       "26059                          17  \n",
       "26060                           4  \n",
       "26061                           4  \n",
       "26062                           8  \n",
       "26063                           4  \n",
       "\n",
       "[26064 rows x 12 columns]"
      ]
     },
     "execution_count": 337,
     "metadata": {},
     "output_type": "execute_result"
    }
   ],
   "source": [
    "import pandas as pd\n",
    "import numpy as np\n",
    "from matplotlib import pyplot as plt\n",
    "\n",
    "url = \"https://raw.githubusercontent.com/PhilChodrow/ml-notes/main/data/credit-risk/train.csv\"\n",
    "df_train = pd.read_csv(url)\n",
    "df_train"
   ]
  },
  {
   "attachments": {},
   "cell_type": "markdown",
   "metadata": {},
   "source": [
    "Downloading the training data"
   ]
  },
  {
   "attachments": {},
   "cell_type": "markdown",
   "metadata": {},
   "source": [
    "## Part B: Exploring the Data"
   ]
  },
  {
   "cell_type": "code",
   "execution_count": 232,
   "metadata": {},
   "outputs": [
    {
     "name": "stderr",
     "output_type": "stream",
     "text": [
      "/Users/tristanmeyer/anaconda3/envs/ml-0451/lib/python3.9/site-packages/seaborn/_oldcore.py:1119: FutureWarning: use_inf_as_na option is deprecated and will be removed in a future version. Convert inf values to NaN before operating instead.\n",
      "  with pd.option_context('mode.use_inf_as_na', True):\n"
     ]
    },
    {
     "data": {
      "text/plain": [
       "<Axes: title={'center': 'Visualizing Loan Intent over Differing Loan Amounts'}, xlabel='Loan Amount', ylabel='Count'>"
      ]
     },
     "execution_count": 232,
     "metadata": {},
     "output_type": "execute_result"
    },
    {
     "data": {
      "image/png": "[encoded data removed]",
      "text/plain": [
       "<Figure size 640x480 with 1 Axes>"
      ]
     },
     "metadata": {},
     "output_type": "display_data"
    }
   ],
   "source": [
    "import seaborn as sns\n",
    "\n",
    "df1 = df_train[[\"loan_intent\", \"loan_amnt\"]]\n",
    "df1 = df1.dropna()\n",
    "\n",
    "p1 = sns.histplot(data=df1, x=\"loan_amnt\", hue=\"loan_intent\", multiple=\"stack\", bins = 10)\n",
    "p1.set(xlabel=\"Loan Amount\", title=\"Visualizing Loan Intent over Differing Loan Amounts\")\n",
    "p1"
   ]
  },
  {
   "attachments": {},
   "cell_type": "markdown",
   "metadata": {},
   "source": [
    "This visualization shows a histogram of loan amounts shown over twenty bins separated by loan intent. Shown by the visualization, the majority of loans occur in the $5,000 - $15,000 range. Further, over the range of loan amounts, the proportions of the different loan intents stays relatively steady. "
   ]
  },
  {
   "cell_type": "code",
   "execution_count": 233,
   "metadata": {},
   "outputs": [
    {
     "name": "stderr",
     "output_type": "stream",
     "text": [
      "/Users/tristanmeyer/anaconda3/envs/ml-0451/lib/python3.9/site-packages/seaborn/_oldcore.py:1119: FutureWarning: use_inf_as_na option is deprecated and will be removed in a future version. Convert inf values to NaN before operating instead.\n",
      "  with pd.option_context('mode.use_inf_as_na', True):\n",
      "/Users/tristanmeyer/anaconda3/envs/ml-0451/lib/python3.9/site-packages/seaborn/_oldcore.py:1119: FutureWarning: use_inf_as_na option is deprecated and will be removed in a future version. Convert inf values to NaN before operating instead.\n",
      "  with pd.option_context('mode.use_inf_as_na', True):\n"
     ]
    },
    {
     "data": {
      "text/plain": [
       "<Axes: title={'center': 'Visualization Loan Interest Rates over Different Ages'}, xlabel='Ages', ylabel='Loan Interest Rates (%)'>"
      ]
     },
     "execution_count": 233,
     "metadata": {},
     "output_type": "execute_result"
    },
    {
     "data": {
      "image/png": "[encoded data removed]",
      "text/plain": [
       "<Figure size 640x480 with 1 Axes>"
      ]
     },
     "metadata": {},
     "output_type": "display_data"
    }
   ],
   "source": [
    "df2 = df_train[[\"person_age\", \"loan_int_rate\"]]\n",
    "df2 = df2.dropna()\n",
    "df2['cat_age'] = np.select([df2.person_age < 30, df2.person_age < 40, df2.person_age < 50, df2.person_age < 60, df2.person_age < 70,], ['<30', '30-40','40-50','50-60','60-70'], '>70')\n",
    "df2 = df2.groupby(\"cat_age\", sort=False).aggregate('mean')\n",
    "\n",
    "p2 = sns.lineplot(data=df2, x=\"cat_age\", y = \"loan_int_rate\")\n",
    "p2.set(xlabel =\"Ages\", ylabel = \"Loan Interest Rates (%)\", title =\"Visualization Loan Interest Rates over Different Ages\")\n",
    "p2"
   ]
  },
  {
   "attachments": {},
   "cell_type": "markdown",
   "metadata": {},
   "source": [
    "To create this visualization, I created a new column that grouped the ages into ten year spans. Then, I aggregated the data frame by the mean values for the different categories in this new column. I then visualized this data over a line plot with the age categories on the x axis and the loan interest rates on the y axis. The graph shows a fluctuation between 11 to 11.1 for the ages up to 70 years old and then a jump to 11.3 for the loans given to people over 70.  "
   ]
  },
  {
   "cell_type": "code",
   "execution_count": 234,
   "metadata": {},
   "outputs": [
    {
     "data": {
      "text/html": [
       "<div>\n",
       "<style scoped>\n",
       "    .dataframe tbody tr th:only-of-type {\n",
       "        vertical-align: middle;\n",
       "    }\n",
       "\n",
       "    .dataframe tbody tr th {\n",
       "        vertical-align: top;\n",
       "    }\n",
       "\n",
       "    .dataframe thead th {\n",
       "        text-align: right;\n",
       "    }\n",
       "</style>\n",
       "<table border=\"1\" class=\"dataframe\">\n",
       "  <thead>\n",
       "    <tr style=\"text-align: right;\">\n",
       "      <th></th>\n",
       "      <th>person_age</th>\n",
       "      <th>person_income</th>\n",
       "      <th>loan_amnt</th>\n",
       "    </tr>\n",
       "    <tr>\n",
       "      <th>person_home_ownership</th>\n",
       "      <th></th>\n",
       "      <th></th>\n",
       "      <th></th>\n",
       "    </tr>\n",
       "  </thead>\n",
       "  <tbody>\n",
       "    <tr>\n",
       "      <th>RENT</th>\n",
       "      <td>27.532802</td>\n",
       "      <td>54961.066515</td>\n",
       "      <td>8843.507973</td>\n",
       "    </tr>\n",
       "    <tr>\n",
       "      <th>MORTGAGE</th>\n",
       "      <td>28.005129</td>\n",
       "      <td>81076.729087</td>\n",
       "      <td>10562.137462</td>\n",
       "    </tr>\n",
       "    <tr>\n",
       "      <th>OWN</th>\n",
       "      <td>27.639462</td>\n",
       "      <td>57348.641383</td>\n",
       "      <td>8978.912626</td>\n",
       "    </tr>\n",
       "    <tr>\n",
       "      <th>OTHER</th>\n",
       "      <td>27.159091</td>\n",
       "      <td>78263.238636</td>\n",
       "      <td>11235.795455</td>\n",
       "    </tr>\n",
       "  </tbody>\n",
       "</table>\n",
       "</div>"
      ],
      "text/plain": [
       "                       person_age  person_income     loan_amnt\n",
       "person_home_ownership                                         \n",
       "RENT                    27.532802   54961.066515   8843.507973\n",
       "MORTGAGE                28.005129   81076.729087  10562.137462\n",
       "OWN                     27.639462   57348.641383   8978.912626\n",
       "OTHER                   27.159091   78263.238636  11235.795455"
      ]
     },
     "execution_count": 234,
     "metadata": {},
     "output_type": "execute_result"
    }
   ],
   "source": [
    "df3 = df_train[[\"person_age\", \"person_income\", \"person_home_ownership\", \"loan_amnt\"]]\n",
    "df3 = df3.dropna()\n",
    "df3.groupby(\"person_home_ownership\", sort=False).aggregate('mean')"
   ]
  },
  {
   "attachments": {},
   "cell_type": "markdown",
   "metadata": {},
   "source": [
    "This summary table shows the difference between the loan receivers age, income, and loan amount over the different home ownership statuses. The table shows that age remains relatively constant for all categories of home ownership. The table also shows an increased income for those with 'mortgage' and 'other' statuses compared to the 'rent' and 'own' statuses. The loan amount follows a similar pattern to the income, the 'mortgage' and 'other' statuses are greater than the 'rent' and 'own' statuses. "
   ]
  },
  {
   "attachments": {},
   "cell_type": "markdown",
   "metadata": {},
   "source": [
    "## Part C: Build a Model"
   ]
  },
  {
   "cell_type": "code",
   "execution_count": 392,
   "metadata": {},
   "outputs": [
    {
     "data": {
      "text/html": [
       "<div>\n",
       "<style scoped>\n",
       "    .dataframe tbody tr th:only-of-type {\n",
       "        vertical-align: middle;\n",
       "    }\n",
       "\n",
       "    .dataframe tbody tr th {\n",
       "        vertical-align: top;\n",
       "    }\n",
       "\n",
       "    .dataframe thead th {\n",
       "        text-align: right;\n",
       "    }\n",
       "</style>\n",
       "<table border=\"1\" class=\"dataframe\">\n",
       "  <thead>\n",
       "    <tr style=\"text-align: right;\">\n",
       "      <th></th>\n",
       "      <th>person_age</th>\n",
       "      <th>person_income</th>\n",
       "      <th>person_emp_length</th>\n",
       "      <th>loan_amnt</th>\n",
       "      <th>loan_int_rate</th>\n",
       "      <th>loan_percent_income</th>\n",
       "      <th>cb_person_cred_hist_length</th>\n",
       "      <th>person_home_ownership_MORTGAGE</th>\n",
       "      <th>person_home_ownership_OTHER</th>\n",
       "      <th>person_home_ownership_OWN</th>\n",
       "      <th>person_home_ownership_RENT</th>\n",
       "      <th>loan_intent_DEBTCONSOLIDATION</th>\n",
       "      <th>loan_intent_EDUCATION</th>\n",
       "      <th>loan_intent_HOMEIMPROVEMENT</th>\n",
       "      <th>loan_intent_MEDICAL</th>\n",
       "      <th>loan_intent_PERSONAL</th>\n",
       "      <th>loan_intent_VENTURE</th>\n",
       "      <th>cb_person_default_on_file_N</th>\n",
       "      <th>cb_person_default_on_file_Y</th>\n",
       "    </tr>\n",
       "  </thead>\n",
       "  <tbody>\n",
       "    <tr>\n",
       "      <th>1</th>\n",
       "      <td>27</td>\n",
       "      <td>98000</td>\n",
       "      <td>3.0</td>\n",
       "      <td>11750</td>\n",
       "      <td>13.47</td>\n",
       "      <td>0.12</td>\n",
       "      <td>6</td>\n",
       "      <td>False</td>\n",
       "      <td>False</td>\n",
       "      <td>False</td>\n",
       "      <td>True</td>\n",
       "      <td>False</td>\n",
       "      <td>True</td>\n",
       "      <td>False</td>\n",
       "      <td>False</td>\n",
       "      <td>False</td>\n",
       "      <td>False</td>\n",
       "      <td>False</td>\n",
       "      <td>True</td>\n",
       "    </tr>\n",
       "    <tr>\n",
       "      <th>2</th>\n",
       "      <td>22</td>\n",
       "      <td>36996</td>\n",
       "      <td>5.0</td>\n",
       "      <td>10000</td>\n",
       "      <td>7.51</td>\n",
       "      <td>0.27</td>\n",
       "      <td>4</td>\n",
       "      <td>False</td>\n",
       "      <td>False</td>\n",
       "      <td>False</td>\n",
       "      <td>True</td>\n",
       "      <td>False</td>\n",
       "      <td>True</td>\n",
       "      <td>False</td>\n",
       "      <td>False</td>\n",
       "      <td>False</td>\n",
       "      <td>False</td>\n",
       "      <td>True</td>\n",
       "      <td>False</td>\n",
       "    </tr>\n",
       "    <tr>\n",
       "      <th>3</th>\n",
       "      <td>24</td>\n",
       "      <td>26000</td>\n",
       "      <td>2.0</td>\n",
       "      <td>1325</td>\n",
       "      <td>12.87</td>\n",
       "      <td>0.05</td>\n",
       "      <td>4</td>\n",
       "      <td>False</td>\n",
       "      <td>False</td>\n",
       "      <td>False</td>\n",
       "      <td>True</td>\n",
       "      <td>False</td>\n",
       "      <td>False</td>\n",
       "      <td>False</td>\n",
       "      <td>True</td>\n",
       "      <td>False</td>\n",
       "      <td>False</td>\n",
       "      <td>True</td>\n",
       "      <td>False</td>\n",
       "    </tr>\n",
       "    <tr>\n",
       "      <th>4</th>\n",
       "      <td>29</td>\n",
       "      <td>53004</td>\n",
       "      <td>2.0</td>\n",
       "      <td>15000</td>\n",
       "      <td>9.63</td>\n",
       "      <td>0.28</td>\n",
       "      <td>10</td>\n",
       "      <td>True</td>\n",
       "      <td>False</td>\n",
       "      <td>False</td>\n",
       "      <td>False</td>\n",
       "      <td>False</td>\n",
       "      <td>False</td>\n",
       "      <td>True</td>\n",
       "      <td>False</td>\n",
       "      <td>False</td>\n",
       "      <td>False</td>\n",
       "      <td>True</td>\n",
       "      <td>False</td>\n",
       "    </tr>\n",
       "    <tr>\n",
       "      <th>6</th>\n",
       "      <td>21</td>\n",
       "      <td>21700</td>\n",
       "      <td>2.0</td>\n",
       "      <td>5500</td>\n",
       "      <td>14.91</td>\n",
       "      <td>0.25</td>\n",
       "      <td>2</td>\n",
       "      <td>False</td>\n",
       "      <td>False</td>\n",
       "      <td>False</td>\n",
       "      <td>True</td>\n",
       "      <td>False</td>\n",
       "      <td>False</td>\n",
       "      <td>True</td>\n",
       "      <td>False</td>\n",
       "      <td>False</td>\n",
       "      <td>False</td>\n",
       "      <td>True</td>\n",
       "      <td>False</td>\n",
       "    </tr>\n",
       "  </tbody>\n",
       "</table>\n",
       "</div>"
      ],
      "text/plain": [
       "   person_age  person_income  person_emp_length  loan_amnt  loan_int_rate  \\\n",
       "1          27          98000                3.0      11750          13.47   \n",
       "2          22          36996                5.0      10000           7.51   \n",
       "3          24          26000                2.0       1325          12.87   \n",
       "4          29          53004                2.0      15000           9.63   \n",
       "6          21          21700                2.0       5500          14.91   \n",
       "\n",
       "   loan_percent_income  cb_person_cred_hist_length  \\\n",
       "1                 0.12                           6   \n",
       "2                 0.27                           4   \n",
       "3                 0.05                           4   \n",
       "4                 0.28                          10   \n",
       "6                 0.25                           2   \n",
       "\n",
       "   person_home_ownership_MORTGAGE  person_home_ownership_OTHER  \\\n",
       "1                           False                        False   \n",
       "2                           False                        False   \n",
       "3                           False                        False   \n",
       "4                            True                        False   \n",
       "6                           False                        False   \n",
       "\n",
       "   person_home_ownership_OWN  person_home_ownership_RENT  \\\n",
       "1                      False                        True   \n",
       "2                      False                        True   \n",
       "3                      False                        True   \n",
       "4                      False                       False   \n",
       "6                      False                        True   \n",
       "\n",
       "   loan_intent_DEBTCONSOLIDATION  loan_intent_EDUCATION  \\\n",
       "1                          False                   True   \n",
       "2                          False                   True   \n",
       "3                          False                  False   \n",
       "4                          False                  False   \n",
       "6                          False                  False   \n",
       "\n",
       "   loan_intent_HOMEIMPROVEMENT  loan_intent_MEDICAL  loan_intent_PERSONAL  \\\n",
       "1                        False                False                 False   \n",
       "2                        False                False                 False   \n",
       "3                        False                 True                 False   \n",
       "4                         True                False                 False   \n",
       "6                         True                False                 False   \n",
       "\n",
       "   loan_intent_VENTURE  cb_person_default_on_file_N  \\\n",
       "1                False                        False   \n",
       "2                False                         True   \n",
       "3                False                         True   \n",
       "4                False                         True   \n",
       "6                False                         True   \n",
       "\n",
       "   cb_person_default_on_file_Y  \n",
       "1                         True  \n",
       "2                        False  \n",
       "3                        False  \n",
       "4                        False  \n",
       "6                        False  "
      ]
     },
     "execution_count": 392,
     "metadata": {},
     "output_type": "execute_result"
    }
   ],
   "source": [
    "from sklearn.preprocessing import LabelEncoder\n",
    "le = LabelEncoder()\n",
    "\n",
    "def prepare_data(df):\n",
    "  df = df.drop([\"loan_grade\"], axis = 1)\n",
    "  df = df.dropna()\n",
    "  y = df[\"loan_status\"]\n",
    "  df = df.drop([\"loan_status\"], axis = 1)\n",
    "  df = pd.get_dummies(df)\n",
    "  return df, y\n",
    "\n",
    "X_train, y_train = prepare_data(df_train)\n",
    "X_train.head()"
   ]
  },
  {
   "attachments": {},
   "cell_type": "markdown",
   "metadata": {},
   "source": [
    "Preparing the qualitative columns in the dataset and removing the loan status and loan grade columns. I also one hot encoded the categorical feature columns. "
   ]
  },
  {
   "cell_type": "code",
   "execution_count": 397,
   "metadata": {},
   "outputs": [
    {
     "data": {
      "text/plain": [
       "['person_home_ownership_MORTGAGE',\n",
       " 'person_home_ownership_OTHER',\n",
       " 'person_home_ownership_OWN',\n",
       " 'person_home_ownership_RENT',\n",
       " 'person_emp_length',\n",
       " 'loan_percent_income']"
      ]
     },
     "execution_count": 397,
     "metadata": {},
     "output_type": "execute_result"
    }
   ],
   "source": [
    "from itertools import combinations\n",
    "from sklearn.linear_model import LogisticRegression\n",
    "from sklearn.model_selection import cross_val_score\n",
    "\n",
    "all_quant_cols = [\"person_age\", \"person_income\", \"person_emp_length\", \"loan_amnt\", \"loan_percent_income\", \"cb_person_cred_hist_length\"]\n",
    "all_qual_cols = [\"person_home_ownership\",\"loan_intent\",\"cb_person_default_on_file\"]\n",
    "max_cv_score = 0\n",
    "max_cols = []\n",
    "for qual in all_qual_cols: \n",
    "  qual_cols = [col for col in X_train.columns if qual in col ]\n",
    "  for pair in combinations(all_quant_cols, 2):\n",
    "    cols = qual_cols + list(pair) \n",
    "    LR = LogisticRegression(max_iter=10000)\n",
    "    LR.fit(X_train[cols], y_train)\n",
    "    cv_scores = cross_val_score(LR,X_train[cols],y_train,cv = 10)\n",
    "    cv_score_mean = cv_scores.mean()\n",
    "    if cv_score_mean > max_cv_score:\n",
    "      max_cv_score = cv_score_mean\n",
    "      max_cols = cols\n",
    "max_cols"
   ]
  },
  {
   "attachments": {},
   "cell_type": "markdown",
   "metadata": {},
   "source": [
    "I split the features into the quantitative columns and the qualitative columns. Next, for every qualitative feature, I iterated through every combination of every possible number of quantitative features. For each of these combinations of one qualitative and different number of quantitative features, I fit a logistic regression model and calculated the mean cross evaluation score over ten folds. I found that a combination between two quantitative features performed just as well as combinations of three and four quantitative features and combinations of five and six quantitative features performed worse. Therefore, with two quantitative features and one qualitative feature the person's length of employment and the percent income that the loan is performed best as quantitative features and the person's home ownership status performed best out of the qualitative features."
   ]
  },
  {
   "cell_type": "code",
   "execution_count": 296,
   "metadata": {},
   "outputs": [
    {
     "data": {
      "text/plain": [
       "0.848212523277911"
      ]
     },
     "execution_count": 296,
     "metadata": {},
     "output_type": "execute_result"
    }
   ],
   "source": [
    "max_cv_score"
   ]
  },
  {
   "attachments": {},
   "cell_type": "markdown",
   "metadata": {},
   "source": [
    "The maximum cross validation score produced (which used the features: person_home_ownership, person_emp_length, and loan_percent_income) a score of 0.85 accuracy. "
   ]
  },
  {
   "cell_type": "code",
   "execution_count": 261,
   "metadata": {},
   "outputs": [
    {
     "data": {
      "text/plain": [
       "array([[-0.14177704,  0.49223552, -1.20834042,  0.85823919, -0.01913409,\n",
       "         8.28689689]])"
      ]
     },
     "execution_count": 261,
     "metadata": {},
     "output_type": "execute_result"
    }
   ],
   "source": [
    "LR.fit(X_train[max_cols], y_train)\n",
    "w = LR.coef_\n",
    "w\n"
   ]
  },
  {
   "attachments": {},
   "cell_type": "markdown",
   "metadata": {},
   "source": [
    "Fitting a logistic regression with the max columns and found the weight vector of the model. "
   ]
  },
  {
   "attachments": {},
   "cell_type": "markdown",
   "metadata": {},
   "source": [
    "## Part D: Find a Threshold"
   ]
  },
  {
   "cell_type": "code",
   "execution_count": 262,
   "metadata": {},
   "outputs": [
    {
     "data": {
      "text/plain": [
       "array([[0.98253712, 0.01746288],\n",
       "       [0.64250914, 0.35749086]])"
      ]
     },
     "execution_count": 262,
     "metadata": {},
     "output_type": "execute_result"
    }
   ],
   "source": [
    "from sklearn.metrics import confusion_matrix\n",
    "\n",
    "y_train_pred = LR.predict(X_train[max_cols])\n",
    "C = confusion_matrix(y_train,y_train_pred, normalize = \"true\")\n",
    "C"
   ]
  },
  {
   "attachments": {},
   "cell_type": "markdown",
   "metadata": {},
   "source": [
    "Showing a confusion matrix for the logistic regression model. "
   ]
  },
  {
   "cell_type": "code",
   "execution_count": 322,
   "metadata": {},
   "outputs": [
    {
     "name": "stdout",
     "output_type": "stream",
     "text": [
      "A threshold of 1.0 gives an accuracy of 0.47.\n",
      "A threshold of 1.5 gives an accuracy of 0.60.\n",
      "A threshold of 2.0 gives an accuracy of 0.72.\n",
      "A threshold of 2.5 gives an accuracy of 0.80.\n",
      "A threshold of 3.0 gives an accuracy of 0.84.\n",
      "A threshold of 3.5 gives an accuracy of 0.84.\n",
      "A threshold of 4.0 gives an accuracy of 0.81.\n",
      "A threshold of 4.5 gives an accuracy of 0.80.\n",
      "A threshold of 5.0 gives an accuracy of 0.79.\n",
      "A threshold of 5.5 gives an accuracy of 0.79.\n",
      "A threshold of 6.0 gives an accuracy of 0.79.\n"
     ]
    }
   ],
   "source": [
    "def linear_score(X, w):\n",
    "    return X@w\n",
    "\n",
    "s = linear_score(X_train[max_cols], w[0])\n",
    "\n",
    "for t in np.linspace(1,6,11):\n",
    "    y_pred = s >= t\n",
    "    acc = (y_pred == y_train).mean()\n",
    "    print(f\"A threshold of {t:.1f} gives an accuracy of {acc:.2f}.\")"
   ]
  },
  {
   "attachments": {},
   "cell_type": "markdown",
   "metadata": {},
   "source": [
    "Finding a starting threshold that results in the highest accuracy. The threshold of 3.0 results in the highest accuracy. "
   ]
  },
  {
   "cell_type": "code",
   "execution_count": 327,
   "metadata": {},
   "outputs": [
    {
     "data": {
      "text/plain": [
       "-698.0432952112778"
      ]
     },
     "execution_count": 327,
     "metadata": {},
     "output_type": "execute_result"
    }
   ],
   "source": [
    "t = 3.0\n",
    "\n",
    "avg_loan_amount = X_train[\"loan_amnt\"].mean()\n",
    "avg_loan_int_rate = X_train[\"loan_int_rate\"].mean()/100\n",
    "cost_of_FN = avg_loan_amount*(1 + 0.25*avg_loan_int_rate)**3 - 1.7*avg_loan_amount\n",
    "gain_of_TN = avg_loan_amount*(1 + 0.25*avg_loan_int_rate)**10 - avg_loan_amount\n",
    "\n",
    "# compute the scores\n",
    "s     = linear_score(X_train[max_cols], w[0])\n",
    "preds = s >= t\n",
    "\n",
    "# compute error rates\n",
    "FPR   = ((preds == 1) & (y_train == 0)).sum() / (y_train == 0).sum()\n",
    "TPR   = ((preds == 1) & (y_train == 1)).sum() / (y_train == 1).sum()\n",
    "\n",
    "TNR = 1 - FPR\n",
    "FNR = 1 - TPR\n",
    "\n",
    "# compute the expected gain\n",
    "gain = gain_of_TN*TNR  + cost_of_FN*FNR \n",
    "gain"
   ]
  },
  {
   "attachments": {},
   "cell_type": "markdown",
   "metadata": {},
   "source": [
    "Calculating the gain based on profit maximization by calculating the cost of a false negative and the gain of a true negative. The gain on a true negative assumes that the profit earned by the bank on a 10-year loan is equal to 25% of the interest rate each year, with the other 75% of the interest going to things like salaries for the people who manage the bank. The cost of a false negative corresponds to the same profit-earning mechanism as above, but assumes that the borrower defaults three years into the loan and that the bank loses 70% of the principal. Using these formulas, and the threshold that maximized accuracy (3.0), the gain from the model is -698 dollars for each loan. "
   ]
  },
  {
   "cell_type": "code",
   "execution_count": 398,
   "metadata": {},
   "outputs": [],
   "source": [
    "num_thresholds = 101\n",
    "\n",
    "FPR = np.zeros(num_thresholds)\n",
    "TPR = np.zeros(num_thresholds)\n",
    "T = np.linspace(s.min()-0.1, s.max()+0.1, num_thresholds)\n",
    "s = linear_score(X_train[max_cols], w[0])\n",
    "\n",
    "for i in range(num_thresholds):\n",
    "    t = T[i]\n",
    "    preds    = s >= t\n",
    "    FPR[i]   = ((preds == 1) & (y_train == 0)).sum() / (y_train == 0).sum()\n",
    "    TPR[i]   = ((preds == 1) & (y_train == 1)).sum() / (y_train == 1).sum()"
   ]
  },
  {
   "attachments": {},
   "cell_type": "markdown",
   "metadata": {},
   "source": [
    "In order to find a threshold that maximizes gain, 101 thresholds are tried from the minimum value of the logistic regression to the maximum value. These different thresholds are stored in arrays recording their false positive and true positive rates. "
   ]
  },
  {
   "cell_type": "code",
   "execution_count": 400,
   "metadata": {},
   "outputs": [
    {
     "data": {
      "image/png": "[encoded data removed]",
      "text/plain": [
       "<Figure size 640x480 with 1 Axes>"
      ]
     },
     "metadata": {},
     "output_type": "display_data"
    },
    {
     "data": {
      "text/plain": [
       "332.6396917244905"
      ]
     },
     "execution_count": 400,
     "metadata": {},
     "output_type": "execute_result"
    }
   ],
   "source": [
    "TNR = 1 - FPR\n",
    "FNR = 1 - TPR\n",
    "\n",
    "avg_loan_amount = X_train[\"loan_amnt\"].mean()\n",
    "avg_loan_int_rate = X_train[\"loan_int_rate\"].mean()/100\n",
    "\n",
    "cost_of_FN = avg_loan_amount*(1 + 0.25*avg_loan_int_rate)**3 - 1.7*avg_loan_amount\n",
    "gain_of_TN = avg_loan_amount*(1 + 0.25*avg_loan_int_rate)**10 - avg_loan_amount\n",
    "\n",
    "gain =  gain_of_TN*TNR  + cost_of_FN*FNR \n",
    "\n",
    "plt.plot(T, gain)\n",
    "plt.gca().set(ylim = (-300, 400), xlim = (-1.5, 3))\n",
    "labs = plt.gca().set(xlabel = r\"Threshold $t$\", ylabel = \"Expected profit per loan\")\n",
    "plt.show()"
   ]
  },
  {
   "attachments": {},
   "cell_type": "markdown",
   "metadata": {},
   "source": [
    "The false positive and true negative rates are used to calculate false negative and true negative values. The expected profit per loan is then calculated for each threshold and visualized on the line chart. "
   ]
  },
  {
   "cell_type": "code",
   "execution_count": 394,
   "metadata": {},
   "outputs": [
    {
     "name": "stderr",
     "output_type": "stream",
     "text": [
      "/var/folders/nr/wxklmm8n7v1986xxzzsjr73m0000gn/T/ipykernel_94626/2988660966.py:2: DeprecationWarning: Calling nonzero on 0d arrays is deprecated, as it behaves surprisingly. Use `atleast_1d(cond).nonzero()` if the old behavior was intended. If the context of this warning is of the form `arr[nonzero(cond)]`, just use `arr[cond]`.\n",
      "  xpos = np.where(gain == ymax)\n"
     ]
    },
    {
     "data": {
      "text/plain": [
       "(array([-1.76658]), 389.3279923336545)"
      ]
     },
     "execution_count": 394,
     "metadata": {},
     "output_type": "execute_result"
    }
   ],
   "source": [
    "ymax = gain.max()\n",
    "xpos = np.where(gain == ymax)\n",
    "xmax = T[xpos]\n",
    "xmax"
   ]
  },
  {
   "attachments": {},
   "cell_type": "markdown",
   "metadata": {},
   "source": [
    "Finding the threshold with the maximum value using the .where function to find the index and then using that index to find the value in the threshold array. The threshold with the highest expected profit per loan is 1.086. "
   ]
  },
  {
   "cell_type": "code",
   "execution_count": 330,
   "metadata": {},
   "outputs": [
    {
     "data": {
      "text/plain": [
       "329.09965389194906"
      ]
     },
     "execution_count": 330,
     "metadata": {},
     "output_type": "execute_result"
    }
   ],
   "source": [
    "t = 1.086\n",
    "\n",
    "# compute the scores\n",
    "s     = linear_score(X_train[max_cols], w[0])\n",
    "preds = s >= t\n",
    "\n",
    "# compute error rates\n",
    "FPR   = ((preds == 1) & (y_train == 0)).sum() / (y_train == 0).sum()\n",
    "TPR   = ((preds == 1) & (y_train == 1)).sum() / (y_train == 1).sum()\n",
    "\n",
    "TNR = 1 - FPR\n",
    "FNR = 1 - TPR\n",
    "\n",
    "# compute the expected gain\n",
    "gain = gain_of_TN*TNR  + cost_of_FN*FNR \n",
    "gain"
   ]
  },
  {
   "attachments": {},
   "cell_type": "markdown",
   "metadata": {},
   "source": [
    "The gain for the threshold 1.086 results in a profit of 329 dollars expected profit per loan. This gain is significantly better than the 698 dollars estimated lost per loan when using a threshold that maximizes accuracy. "
   ]
  },
  {
   "attachments": {},
   "cell_type": "markdown",
   "metadata": {},
   "source": [
    "## Part E: Evaluate Your Model from the Bank’s Perspective"
   ]
  },
  {
   "cell_type": "code",
   "execution_count": 287,
   "metadata": {},
   "outputs": [],
   "source": [
    "url = \"https://raw.githubusercontent.com/PhilChodrow/ml-notes/main/data/credit-risk/test.csv\"\n",
    "df_test = pd.read_csv(url)\n",
    "\n",
    "X_test, y_test = prepare_data(df_test)\n"
   ]
  },
  {
   "attachments": {},
   "cell_type": "markdown",
   "metadata": {},
   "source": [
    "Loading and preparing the test data."
   ]
  },
  {
   "cell_type": "code",
   "execution_count": 331,
   "metadata": {},
   "outputs": [
    {
     "data": {
      "text/plain": [
       "389.3279923336545"
      ]
     },
     "execution_count": 331,
     "metadata": {},
     "output_type": "execute_result"
    }
   ],
   "source": [
    "t = 1.086\n",
    "\n",
    "# compute the scores\n",
    "s     = linear_score(X_test[max_cols], w[0])\n",
    "preds = s >= t\n",
    "\n",
    "# compute error rates\n",
    "FPR   = ((preds == 1) & (y_test == 0)).sum() / (y_test == 0).sum()\n",
    "TPR   = ((preds == 1) & (y_test == 1)).sum() / (y_test == 1).sum()\n",
    "\n",
    "TNR = 1 - FPR\n",
    "FNR = 1 - TPR\n",
    "\n",
    "# compute the expected gain\n",
    "gain = gain_of_TN*TNR  + cost_of_FN*FNR \n",
    "gain"
   ]
  },
  {
   "attachments": {},
   "cell_type": "markdown",
   "metadata": {},
   "source": [
    "The model with a threshold of 1.086 resulted in a 389 dollar expected gain per loan in the testing data. This profit is greater than the profit produced by the training set!"
   ]
  },
  {
   "attachments": {},
   "cell_type": "markdown",
   "metadata": {},
   "source": [
    "## Part F: Evaluate Your Model From the Borrower’s Perspective"
   ]
  },
  {
   "attachments": {},
   "cell_type": "markdown",
   "metadata": {},
   "source": [
    "Is it more difficult for people in certain age groups to access credit under your proposed system?"
   ]
  },
  {
   "cell_type": "code",
   "execution_count": 342,
   "metadata": {},
   "outputs": [
    {
     "data": {
      "text/plain": [
       "0.6650836829729356"
      ]
     },
     "execution_count": 342,
     "metadata": {},
     "output_type": "execute_result"
    }
   ],
   "source": [
    "df4 = df_train[df_train['person_age'] < 40]\n",
    "X_train, y_train = prepare_data(df4)\n",
    "\n",
    "\n",
    "# compute the scores\n",
    "s     = linear_score(X_train[max_cols], w[0])\n",
    "preds = s >= t\n",
    "preds.mean()\n"
   ]
  },
  {
   "cell_type": "code",
   "execution_count": 360,
   "metadata": {},
   "outputs": [
    {
     "data": {
      "text/plain": [
       "0.6085271317829457"
      ]
     },
     "execution_count": 360,
     "metadata": {},
     "output_type": "execute_result"
    }
   ],
   "source": [
    "df5 = df_train[df_train['person_age'] > 40]\n",
    "X_train, y_train = prepare_data(df5)\n",
    "\n",
    "# compute the scores\n",
    "s     = linear_score(X_train[max_cols], w[0])\n",
    "preds = s >= t\n",
    "preds.mean()"
   ]
  },
  {
   "attachments": {},
   "cell_type": "markdown",
   "metadata": {},
   "source": [
    "Although I didn't use age as a predictor in my logistic regression model, I found that in the training data, people under the age of 40 were able to receive a loan at a rate of 66%; whereas, people over the age of 40 were only able to receive a loan at a rate of 60%. This difference could be due to other predictors in my model, such as the person's employment length or home ownership status. "
   ]
  },
  {
   "attachments": {},
   "cell_type": "markdown",
   "metadata": {},
   "source": [
    "Is it more difficult for people to get loans in order to pay for medical expenses? How does this compare with the actual rate of default in that group? What about people seeking loans for business ventures or education?"
   ]
  },
  {
   "cell_type": "code",
   "execution_count": 369,
   "metadata": {},
   "outputs": [
    {
     "name": "stdout",
     "output_type": "stream",
     "text": [
      "Percentage given loans = 0.7011848341232227\n",
      "Percentage defaulted = 0.26328852119958635\n"
     ]
    }
   ],
   "source": [
    "df6 = df_train[df_train['loan_intent'] == \"MEDICAL\"]\n",
    "default_rate = df6[\"loan_status\"].mean()\n",
    "X_train, y_train = prepare_data(df6)\n",
    "\n",
    "s     = linear_score(X_train[max_cols], w[0])\n",
    "preds = s >= t\n",
    "print(\"Percentage given loans = \" + str(preds.mean()))\n",
    "print(\"Percentage defaulted = \" + str(default_rate))"
   ]
  },
  {
   "cell_type": "code",
   "execution_count": 374,
   "metadata": {},
   "outputs": [
    {
     "name": "stdout",
     "output_type": "stream",
     "text": [
      "Percentage given loans = 0.6729240282685512\n",
      "Percentage defaulted = 0.17339574800078017\n"
     ]
    }
   ],
   "source": [
    "df7 = df_train[df_train['loan_intent'] == \"EDUCATION\"]\n",
    "default_rate = df7[\"loan_status\"].mean()\n",
    "X_train, y_train = prepare_data(df7)\n",
    "\n",
    "s     = linear_score(X_train[max_cols], w[0])\n",
    "preds = s >= t\n",
    "print(\"Percentage given loans = \" + str(preds.mean()))\n",
    "print(\"Percentage defaulted = \" + str(default_rate))"
   ]
  },
  {
   "cell_type": "code",
   "execution_count": 370,
   "metadata": {},
   "outputs": [
    {
     "name": "stdout",
     "output_type": "stream",
     "text": [
      "Percentage given loans = 0.6247213277186029\n",
      "Percentage defaulted = 0.14867793671434765\n"
     ]
    }
   ],
   "source": [
    "df8 = df_train[df_train['loan_intent'] == \"VENTURE\"]\n",
    "default_rate = df8[\"loan_status\"].mean()\n",
    "X_train, y_train = prepare_data(df8)\n",
    "\n",
    "s     = linear_score(X_train[max_cols], w[0])\n",
    "preds = s >= t\n",
    "print(\"Percentage given loans = \" + str(preds.mean()))\n",
    "print(\"Percentage defaulted = \" + str(default_rate))"
   ]
  },
  {
   "cell_type": "code",
   "execution_count": 371,
   "metadata": {},
   "outputs": [
    {
     "name": "stdout",
     "output_type": "stream",
     "text": [
      "Percentage given loans = 0.6076684740511231\n",
      "Percentage defaulted = 0.26464507236388696\n"
     ]
    }
   ],
   "source": [
    "df9 = df_train[df_train['loan_intent'] == \"HOMEIMPROVEMENT\"]\n",
    "default_rate = df9[\"loan_status\"].mean()\n",
    "X_train, y_train = prepare_data(df9)\n",
    "\n",
    "s     = linear_score(X_train[max_cols], w[0])\n",
    "preds = s >= t\n",
    "print(\"Percentage given loans = \" + str(preds.mean()))\n",
    "print(\"Percentage defaulted = \" + str(default_rate))"
   ]
  },
  {
   "cell_type": "code",
   "execution_count": 372,
   "metadata": {},
   "outputs": [
    {
     "name": "stdout",
     "output_type": "stream",
     "text": [
      "Percentage given loans = 0.6478473833462233\n",
      "Percentage defaulted = 0.19373865698729584\n"
     ]
    }
   ],
   "source": [
    "df10 = df_train[df_train['loan_intent'] == \"PERSONAL\"]\n",
    "default_rate = df10[\"loan_status\"].mean()\n",
    "X_train, y_train = prepare_data(df10)\n",
    "\n",
    "s     = linear_score(X_train[max_cols], w[0])\n",
    "preds = s >= t\n",
    "print(\"Percentage given loans = \" + str(preds.mean()))\n",
    "print(\"Percentage defaulted = \" + str(default_rate))"
   ]
  },
  {
   "cell_type": "code",
   "execution_count": 373,
   "metadata": {},
   "outputs": [
    {
     "name": "stdout",
     "output_type": "stream",
     "text": [
      "Percentage given loans = 0.6970773012838022\n",
      "Percentage defaulted = 0.2874581139301101\n"
     ]
    }
   ],
   "source": [
    "df11 = df_train[df_train['loan_intent'] == \"DEBTCONSOLIDATION\"]\n",
    "default_rate = df11[\"loan_status\"].mean()\n",
    "X_train, y_train = prepare_data(df11)\n",
    "\n",
    "s     = linear_score(X_train[max_cols], w[0])\n",
    "preds = s >= t\n",
    "print(\"Percentage given loans = \" + str(preds.mean()))\n",
    "print(\"Percentage defaulted = \" + str(default_rate))"
   ]
  },
  {
   "attachments": {},
   "cell_type": "markdown",
   "metadata": {},
   "source": [
    "Based on the training data, the intent category least likely to receive a loan was home improvement with 61% received. The intent category most likely to receive a loan was medical with 70% received. Interestingly, the venture intent category received only 62% of requests, but only had a default rate of 15%. "
   ]
  },
  {
   "attachments": {},
   "cell_type": "markdown",
   "metadata": {},
   "source": [
    "How does a person’s income level impact the ease with which they can access credit under your decision system?"
   ]
  },
  {
   "cell_type": "code",
   "execution_count": 384,
   "metadata": {},
   "outputs": [
    {
     "name": "stdout",
     "output_type": "stream",
     "text": [
      "Percentage given loans = 0.7921593596507186\n",
      "Percentage defaulted = 0.31125462707726237\n"
     ]
    }
   ],
   "source": [
    "median = df_train[\"person_income\"].median()\n",
    "df12 = df_train[df_train['person_income'] < median]\n",
    "default_rate = df12[\"loan_status\"].mean()\n",
    "X_train, y_train = prepare_data(df12)\n",
    "\n",
    "\n",
    "# compute the scores\n",
    "s     = linear_score(X_train[max_cols], w[0])\n",
    "preds = s >= t\n",
    "print(\"Percentage given loans = \" + str(preds.mean()))\n",
    "print(\"Percentage defaulted = \" + str(default_rate))"
   ]
  },
  {
   "cell_type": "code",
   "execution_count": 386,
   "metadata": {},
   "outputs": [
    {
     "name": "stdout",
     "output_type": "stream",
     "text": [
      "Percentage given loans = 0.5379828882551205\n",
      "Percentage defaulted = 0.1302071302071302\n"
     ]
    }
   ],
   "source": [
    "median = df_train[\"person_income\"].median()\n",
    "df13 = df_train[df_train['person_income'] > median]\n",
    "default_rate = df13[\"loan_status\"].mean()\n",
    "X_train, y_train = prepare_data(df13)\n",
    "\n",
    "\n",
    "# compute the scores\n",
    "s     = linear_score(X_train[max_cols], w[0])\n",
    "preds = s >= t\n",
    "print(\"Percentage given loans = \" + str(preds.mean()))\n",
    "print(\"Percentage defaulted = \" + str(default_rate))"
   ]
  },
  {
   "attachments": {},
   "cell_type": "markdown",
   "metadata": {},
   "source": [
    "Under my decision system, requestors with an income level above the median received loans at a rate of 53 percent. Compared to requestors with an income level below the median, who received loans at a rate of 79 percent. "
   ]
  },
  {
   "attachments": {},
   "cell_type": "markdown",
   "metadata": {},
   "source": [
    "## Part G: Write and Reflect"
   ]
  },
  {
   "attachments": {},
   "cell_type": "markdown",
   "metadata": {},
   "source": [
    "Through the use of an exhaustive feature search and cross validation, I created a model that uses employment length, the percentage that the loan is compared to the borrower's income, and the home ownership status to predict if the loan will default with 86% accuracy in the training data. Further, I found a threshold value of 1.086 that maximized the banks profit with an average gain of 333 in the training data and 389 in the testing data.\n",
    "\n",
    "Although I've worked with pandas dataframes and creating seaborn visualizations, this process was helpful practice for me. More importantly, this was my first implementation of a threshold to maximize gain. This post was helpful to my understanding of the concept as a whole and brought me through all the implementation steps. \n",
    "\n",
    "The concept of fairness is important to discuss when evaluating a model that decides who does and who doesn't receive loans. To reiterate, this model makes decisions purely to maximize gain without accounting for any other factors. The model made no attempt to adjust for social inequalities or other factors that would make it more just. However, in terms of fairness, which I classify as impartial decision making, given the intentions of the model, I think it performs in a fair manner. For example, considering people who are seeking loans for medical expenses have high rates of default, with intentions of pure gain, I think it is fair for a model to be less likely to give these people loans. This does not mean that it is morally right to not give these people loans, but considering their higher default rates, it is fair.   "
   ]
  }
 ],
 "metadata": {
  "kernelspec": {
   "display_name": "ml-0451",
   "language": "python",
   "name": "python3"
  },
  "language_info": {
   "codemirror_mode": {
    "name": "ipython",
    "version": 3
   },
   "file_extension": ".py",
   "mimetype": "text/x-python",
   "name": "python",
   "nbconvert_exporter": "python",
   "pygments_lexer": "ipython3",
   "version": "3.9.18"
  },
  "orig_nbformat": 4
 },
 "nbformat": 4,
 "nbformat_minor": 2
}
